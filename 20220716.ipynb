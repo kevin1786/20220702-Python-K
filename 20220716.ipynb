{
  "nbformat": 4,
  "nbformat_minor": 0,
  "metadata": {
    "colab": {
      "name": "20220716.ipynb",
      "provenance": [],
      "include_colab_link": true
    },
    "kernelspec": {
      "name": "python3",
      "display_name": "Python 3"
    },
    "language_info": {
      "name": "python"
    }
  },
  "cells": [
    {
      "cell_type": "markdown",
      "metadata": {
        "id": "view-in-github",
        "colab_type": "text"
      },
      "source": [
        "<a href=\"https://colab.research.google.com/github/kevin1786/20220702-Python-K/blob/main/20220716.ipynb\" target=\"_parent\"><img src=\"https://colab.research.google.com/assets/colab-badge.svg\" alt=\"Open In Colab\"/></a>"
      ]
    },
    {
      "cell_type": "markdown",
      "source": [
        "# 20220716"
      ],
      "metadata": {
        "id": "AMeEoHBSi3Qv"
      }
    },
    {
      "cell_type": "markdown",
      "source": [
        "## 20220709 - 作業參考解答"
      ],
      "metadata": {
        "id": "dcyVBCYFi53H"
      }
    },
    {
      "cell_type": "code",
      "execution_count": null,
      "metadata": {
        "id": "Y10hbbjLij3c"
      },
      "outputs": [],
      "source": [
        "!pip install gradio"
      ]
    },
    {
      "cell_type": "code",
      "source": [
        "import requests"
      ],
      "metadata": {
        "id": "vxrHlf6Di2at"
      },
      "execution_count": null,
      "outputs": []
    },
    {
      "cell_type": "code",
      "source": [
        "def lookup(word):\n",
        "  url = \"https://www.moedict.tw/a/\"\n",
        "  data = requests.get(url + word+ \".json\").json()\n",
        "  return data['English']"
      ],
      "metadata": {
        "id": "B-D55iYijCP4"
      },
      "execution_count": null,
      "outputs": []
    },
    {
      "cell_type": "code",
      "source": [
        "lookup(\"教室\")"
      ],
      "metadata": {
        "colab": {
          "base_uri": "https://localhost:8080/",
          "height": 35
        },
        "id": "yb3bV8w2jw9S",
        "outputId": "bab2f2d9-142f-46ea-e491-257816c5c745"
      },
      "execution_count": null,
      "outputs": [
        {
          "output_type": "execute_result",
          "data": {
            "text/plain": [
              "'classroom'"
            ],
            "application/vnd.google.colaboratory.intrinsic+json": {
              "type": "string"
            }
          },
          "metadata": {},
          "execution_count": 4
        }
      ]
    },
    {
      "cell_type": "code",
      "source": [
        "import gradio"
      ],
      "metadata": {
        "id": "ntBKznFKjymA"
      },
      "execution_count": null,
      "outputs": []
    },
    {
      "cell_type": "code",
      "source": [
        "gradio.Interface(lookup, \"text\", \"text\", title=\"漢英字典\").launch(share=True)"
      ],
      "metadata": {
        "colab": {
          "base_uri": "https://localhost:8080/",
          "height": 665
        },
        "id": "ucuXTyUij4iX",
        "outputId": "877cf67a-95c2-49d4-bbdd-8051de7ca6d4"
      },
      "execution_count": null,
      "outputs": [
        {
          "output_type": "stream",
          "name": "stdout",
          "text": [
            "Colab notebook detected. To show errors in colab notebook, set `debug=True` in `launch()`\n",
            "Running on public URL: https://38294.gradio.app\n",
            "\n",
            "This share link expires in 72 hours. For free permanent hosting, check out Spaces (https://huggingface.co/spaces)\n"
          ]
        },
        {
          "output_type": "display_data",
          "data": {
            "text/plain": [
              "<IPython.core.display.HTML object>"
            ],
            "text/html": [
              "<div><iframe src=\"https://38294.gradio.app\" width=\"900\" height=\"500\" allow=\"autoplay; camera; microphone;\" frameborder=\"0\" allowfullscreen></iframe></div>"
            ]
          },
          "metadata": {}
        },
        {
          "output_type": "execute_result",
          "data": {
            "text/plain": [
              "(<gradio.routes.App at 0x7f1db68419d0>,\n",
              " 'http://127.0.0.1:7860/',\n",
              " 'https://38294.gradio.app')"
            ]
          },
          "metadata": {},
          "execution_count": 6
        }
      ]
    },
    {
      "cell_type": "markdown",
      "source": [
        "# 註冊 ZeroJudge\n",
        "\n",
        "* https://zerojudge.tw/\n",
        "\n",
        "解解看底下題目：\n",
        "* https://zerojudge.tw/ShowProblem?problemid=a002\n",
        "* https://zerojudge.tw/ShowProblem?problemid=a003"
      ],
      "metadata": {
        "id": "1IAMMk9FnWvG"
      }
    },
    {
      "cell_type": "markdown",
      "source": [
        "# 資料分析簡介\n",
        "\n",
        "* Numpy\n",
        "  * Numerical Python\n",
        "  * 科學運算基礎套件\n",
        "* MatPlotLib\n",
        "  * Matrix Plotting Library\n",
        "  * 繪圖基礎套件\n",
        "* Pandas\n",
        "  * Panel Data\n",
        "  * 資料分析基礎套件"
      ],
      "metadata": {
        "id": "M2uTGy6fn78j"
      }
    },
    {
      "cell_type": "markdown",
      "source": [
        "```python\n",
        "import numpy as np\n",
        "import matplotlib.pyplot as plt\n",
        "import pandas as pd\n",
        "```"
      ],
      "metadata": {
        "id": "Bsskwkp3qlWK"
      }
    },
    {
      "cell_type": "markdown",
      "source": [
        "## Numpy\n",
        "\n",
        "* new data type\n",
        "  * ndarray => Multi-Dimentional Array\n",
        "* new functions to process data\n",
        "  * ufunc => Universal Functions"
      ],
      "metadata": {
        "id": "FjHr0TFxpz4r"
      }
    },
    {
      "cell_type": "markdown",
      "source": [
        "## 使用原生的Python執行向量運算時會遇到的問題"
      ],
      "metadata": {
        "id": "xKdW2d35tQ0P"
      }
    },
    {
      "cell_type": "code",
      "source": [
        "x1 = [1, 2, 3]\n",
        "x2 = [4, 5, 6]"
      ],
      "metadata": {
        "id": "1X-tw0n9kDsQ"
      },
      "execution_count": null,
      "outputs": []
    },
    {
      "cell_type": "code",
      "source": [
        "x1 + x2"
      ],
      "metadata": {
        "colab": {
          "base_uri": "https://localhost:8080/"
        },
        "id": "tCJsOz_CrzfC",
        "outputId": "8d55d0ed-d19f-4bee-b917-a84aebc8a3d7"
      },
      "execution_count": null,
      "outputs": [
        {
          "output_type": "execute_result",
          "data": {
            "text/plain": [
              "[1, 2, 3, 4, 5, 6]"
            ]
          },
          "metadata": {},
          "execution_count": 8
        }
      ]
    },
    {
      "cell_type": "code",
      "source": [
        "2*x1"
      ],
      "metadata": {
        "colab": {
          "base_uri": "https://localhost:8080/"
        },
        "id": "LIetI3scsbnt",
        "outputId": "40d699a8-4d19-40ae-ee40-a9d8a288f1fc"
      },
      "execution_count": null,
      "outputs": [
        {
          "output_type": "execute_result",
          "data": {
            "text/plain": [
              "[1, 2, 3, 1, 2, 3]"
            ]
          },
          "metadata": {},
          "execution_count": 9
        }
      ]
    },
    {
      "cell_type": "code",
      "source": [
        "list(zip(x1, x2))"
      ],
      "metadata": {
        "colab": {
          "base_uri": "https://localhost:8080/"
        },
        "id": "-ySwWIlas3Qr",
        "outputId": "a3c483d4-d7c9-4c57-e3e0-21180bf336ee"
      },
      "execution_count": null,
      "outputs": [
        {
          "output_type": "execute_result",
          "data": {
            "text/plain": [
              "[(1, 4), (2, 5), (3, 6)]"
            ]
          },
          "metadata": {},
          "execution_count": 12
        }
      ]
    },
    {
      "cell_type": "code",
      "source": [
        "x3 = []\n",
        "for i, j in zip(x1, x2):\n",
        "  x3.append(i + j)"
      ],
      "metadata": {
        "id": "30LF-VnIsiU1"
      },
      "execution_count": null,
      "outputs": []
    },
    {
      "cell_type": "code",
      "source": [
        "x3"
      ],
      "metadata": {
        "colab": {
          "base_uri": "https://localhost:8080/"
        },
        "id": "zwp6nexVsvgx",
        "outputId": "d7479cdd-0c59-48cb-dcaf-16f5d8c9bd6b"
      },
      "execution_count": null,
      "outputs": [
        {
          "output_type": "execute_result",
          "data": {
            "text/plain": [
              "[5, 7, 9]"
            ]
          },
          "metadata": {},
          "execution_count": 11
        }
      ]
    },
    {
      "cell_type": "markdown",
      "source": [
        "## Numpy 用來做什麼？"
      ],
      "metadata": {
        "id": "NpWye0x9tYLu"
      }
    },
    {
      "cell_type": "code",
      "source": [
        ""
      ],
      "metadata": {
        "id": "TzNkDq7dswIN"
      },
      "execution_count": null,
      "outputs": []
    }
  ]
}