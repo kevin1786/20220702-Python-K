{
  "nbformat": 4,
  "nbformat_minor": 0,
  "metadata": {
    "colab": {
      "name": "Untitled1.ipynb",
      "provenance": [],
      "toc_visible": true,
      "authorship_tag": "ABX9TyMB8A/1UYzAzI2sx8fU1qa9",
      "include_colab_link": true
    },
    "kernelspec": {
      "name": "python3",
      "display_name": "Python 3"
    },
    "language_info": {
      "name": "python"
    }
  },
  "cells": [
    {
      "cell_type": "markdown",
      "metadata": {
        "id": "view-in-github",
        "colab_type": "text"
      },
      "source": [
        "<a href=\"https://colab.research.google.com/github/kevin1786/20220702-Python-K/blob/main/20220716_ipynb-K.ipynb\" target=\"_parent\"><img src=\"https://colab.research.google.com/assets/colab-badge.svg\" alt=\"Open In Colab\"/></a>"
      ]
    },
    {
      "cell_type": "code",
      "execution_count": null,
      "metadata": {
        "id": "H0mXbQvYiZd7"
      },
      "outputs": [],
      "source": [
        "##0716"
      ]
    },
    {
      "cell_type": "markdown",
      "source": [
        "##20220709 作業參考解答"
      ],
      "metadata": {
        "id": "ESDPzoRiit-f"
      }
    },
    {
      "cell_type": "code",
      "source": [
        "!pip install"
      ],
      "metadata": {
        "id": "Y_P6Sfyoi6Ng"
      },
      "execution_count": null,
      "outputs": []
    },
    {
      "cell_type": "code",
      "source": [
        "import gradio"
      ],
      "metadata": {
        "id": "vcQ4l_Yzjrtz"
      },
      "execution_count": null,
      "outputs": []
    },
    {
      "cell_type": "markdown",
      "source": [
        "##註冊zerojudge\n",
        "https://zerojudge.tw/Problems\n",
        "姊姊看底下\\題目\n",
        "https://zerojudge.tw/ShowProblem?problemid=a002\n",
        "https://zerojudge.tw/ShowProblem?problemid=a003"
      ],
      "metadata": {
        "id": "zt1a6iDDnNO7"
      }
    },
    {
      "cell_type": "markdown",
      "source": [
        "##基本語法\n",
        "*迴圈(loops)=>for, while\n",
        "*寒士(function)=>\n",
        "*條件式(if statement)\n",
        "*例外處理(exception handling)"
      ],
      "metadata": {
        "id": "-Ykz8HSow71s"
      }
    },
    {
      "cell_type": "markdown",
      "source": [
        "#例外處理"
      ],
      "metadata": {
        "id": "q7f5s3hSxyZd"
      }
    },
    {
      "cell_type": "code",
      "source": [
        "def add(x,y):\n",
        "  print(f\"{x}+{y}={x+y}\")"
      ],
      "metadata": {
        "id": "nWlOOBiKx3pq"
      },
      "execution_count": 4,
      "outputs": []
    },
    {
      "cell_type": "code",
      "source": [
        "add(2,1)\n"
      ],
      "metadata": {
        "id": "7WhfTRzAyVdP",
        "outputId": "db46e223-3776-45b3-d7f4-d5b7a9883951",
        "colab": {
          "base_uri": "https://localhost:8080/"
        }
      },
      "execution_count": 5,
      "outputs": [
        {
          "output_type": "stream",
          "name": "stdout",
          "text": [
            "2+1=3\n"
          ]
        }
      ]
    },
    {
      "cell_type": "code",
      "source": [
        "def add(x,y):\n",
        "  print(f\"{x}+{y}={x+y}\")\n",
        "def sub(x,y):\n",
        "  print(f\"{x}-{y}={x-y}\")\n",
        "def mul(x,y):\n",
        "  print(f\"{x}x{y}={x*y}\")\n",
        "def div(x,y):\n",
        "  print(f\"{x}/{y}={x/y}\")"
      ],
      "metadata": {
        "id": "kNed7Hlryi9z"
      },
      "execution_count": 10,
      "outputs": []
    },
    {
      "cell_type": "code",
      "source": [
        "functions =[add,div,mul,sub]"
      ],
      "metadata": {
        "id": "H_hfksMsy9yv"
      },
      "execution_count": 11,
      "outputs": []
    },
    {
      "cell_type": "code",
      "source": [
        "x=4\n",
        "y=2\n",
        "for func in functions:\n",
        "  func(x,y)"
      ],
      "metadata": {
        "id": "1g6g6DWkzMni",
        "outputId": "24871382-79fe-495b-e757-cb016849065c",
        "colab": {
          "base_uri": "https://localhost:8080/"
        }
      },
      "execution_count": 13,
      "outputs": [
        {
          "output_type": "stream",
          "name": "stdout",
          "text": [
            "4+2=6\n",
            "4/2=2.0\n",
            "4x2=8\n",
            "4-2=2\n"
          ]
        }
      ]
    },
    {
      "cell_type": "markdown",
      "source": [
        "##資料分析簡介\n",
        "*Numpy \n",
        "  *Numerical Python\n",
        "  *科學運算基礎套件 \n",
        "*MatPlotLib\n",
        "  *Matrix Plotting Library\n",
        "  *繪圖機處套件\n",
        "*Pandas\n",
        "  *Panel Data\n",
        "  *資料分析基礎套件"
      ],
      "metadata": {
        "id": "vUkBIDJXnpHc"
      }
    },
    {
      "cell_type": "markdown",
      "source": [
        "```python\n",
        "import numpy as np\n",
        "import mathlotlib.pyplot as plt\n",
        "import pandas as pd"
      ],
      "metadata": {
        "id": "Ri1lJSA5qZ5t"
      }
    },
    {
      "cell_type": "markdown",
      "source": [
        "##Numpy\n",
        "* new data type\n",
        "  *ndarray => multi-dimentional array\n",
        "* new function to process data\n",
        "  *ufunc => Universal Functions\n"
      ],
      "metadata": {
        "id": "PTBfzUhxoDW9"
      }
    },
    {
      "cell_type": "markdown",
      "source": [
        ""
      ],
      "metadata": {
        "id": "JNzaIkRStKrE"
      }
    },
    {
      "cell_type": "markdown",
      "source": [
        "x1=[1,2,3]\n",
        "x2=[4,5,6]"
      ],
      "metadata": {
        "id": "BXZwoWYgriuc"
      }
    },
    {
      "cell_type": "code",
      "source": [
        "x1=[1,2,3] \n",
        "x2=[4,5,6]"
      ],
      "metadata": {
        "id": "e8HfSyvYsrFQ"
      },
      "execution_count": null,
      "outputs": []
    },
    {
      "cell_type": "code",
      "source": [
        "x3=[]\n",
        "for i,j in zip(x1,x2):\n",
        "  x3.append(i+j)"
      ],
      "metadata": {
        "id": "fB1O58OnsxgI",
        "outputId": "74f13716-5650-48c7-a09f-7af3b4d6162f",
        "colab": {
          "base_uri": "https://localhost:8080/",
          "height": 201
        }
      },
      "execution_count": 2,
      "outputs": [
        {
          "output_type": "error",
          "ename": "NameError",
          "evalue": "ignored",
          "traceback": [
            "\u001b[0;31m---------------------------------------------------------------------------\u001b[0m",
            "\u001b[0;31mNameError\u001b[0m                                 Traceback (most recent call last)",
            "\u001b[0;32m<ipython-input-2-e69a96077608>\u001b[0m in \u001b[0;36m<module>\u001b[0;34m()\u001b[0m\n\u001b[1;32m      1\u001b[0m \u001b[0mx3\u001b[0m\u001b[0;34m=\u001b[0m\u001b[0;34m[\u001b[0m\u001b[0;34m]\u001b[0m\u001b[0;34m\u001b[0m\u001b[0;34m\u001b[0m\u001b[0m\n\u001b[0;32m----> 2\u001b[0;31m \u001b[0;32mfor\u001b[0m \u001b[0mi\u001b[0m\u001b[0;34m,\u001b[0m\u001b[0mj\u001b[0m \u001b[0;32min\u001b[0m \u001b[0mzip\u001b[0m\u001b[0;34m(\u001b[0m\u001b[0mx1\u001b[0m\u001b[0;34m,\u001b[0m\u001b[0mx2\u001b[0m\u001b[0;34m)\u001b[0m\u001b[0;34m:\u001b[0m\u001b[0;34m\u001b[0m\u001b[0;34m\u001b[0m\u001b[0m\n\u001b[0m\u001b[1;32m      3\u001b[0m   \u001b[0mx3\u001b[0m\u001b[0;34m.\u001b[0m\u001b[0mappend\u001b[0m\u001b[0;34m(\u001b[0m\u001b[0mi\u001b[0m\u001b[0;34m+\u001b[0m\u001b[0mj\u001b[0m\u001b[0;34m)\u001b[0m\u001b[0;34m\u001b[0m\u001b[0;34m\u001b[0m\u001b[0m\n",
            "\u001b[0;31mNameError\u001b[0m: name 'x1' is not defined"
          ]
        }
      ]
    },
    {
      "cell_type": "markdown",
      "source": [
        "x1 + x2"
      ],
      "metadata": {
        "id": "APYqTpK0rsJ9"
      }
    },
    {
      "cell_type": "markdown",
      "source": [
        ""
      ],
      "metadata": {
        "id": "XmMK7yGso1_T"
      }
    },
    {
      "cell_type": "code",
      "source": [
        "x1 + x2"
      ],
      "metadata": {
        "id": "tloLFTbcsOLp",
        "outputId": "0210f7dc-3c05-4cad-a789-b6a04b9311b7",
        "colab": {
          "base_uri": "https://localhost:8080/",
          "height": 167
        }
      },
      "execution_count": 1,
      "outputs": [
        {
          "output_type": "error",
          "ename": "NameError",
          "evalue": "ignored",
          "traceback": [
            "\u001b[0;31m---------------------------------------------------------------------------\u001b[0m",
            "\u001b[0;31mNameError\u001b[0m                                 Traceback (most recent call last)",
            "\u001b[0;32m<ipython-input-1-17ca5ab06151>\u001b[0m in \u001b[0;36m<module>\u001b[0;34m()\u001b[0m\n\u001b[0;32m----> 1\u001b[0;31m \u001b[0mx1\u001b[0m \u001b[0;34m+\u001b[0m \u001b[0mx2\u001b[0m\u001b[0;34m\u001b[0m\u001b[0;34m\u001b[0m\u001b[0m\n\u001b[0m",
            "\u001b[0;31mNameError\u001b[0m: name 'x1' is not defined"
          ]
        }
      ]
    }
  ]
}