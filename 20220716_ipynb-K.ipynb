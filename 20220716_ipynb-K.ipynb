{
  "nbformat": 4,
  "nbformat_minor": 0,
  "metadata": {
    "colab": {
      "name": "Untitled1.ipynb",
      "provenance": [],
      "toc_visible": true,
      "authorship_tag": "ABX9TyOPi28t/wtPMeKos7YvN9GC",
      "include_colab_link": true
    },
    "kernelspec": {
      "name": "python3",
      "display_name": "Python 3"
    },
    "language_info": {
      "name": "python"
    }
  },
  "cells": [
    {
      "cell_type": "markdown",
      "metadata": {
        "id": "view-in-github",
        "colab_type": "text"
      },
      "source": [
        "<a href=\"https://colab.research.google.com/github/kevin1786/20220702-Python-K/blob/main/20220716_ipynb-K.ipynb\" target=\"_parent\"><img src=\"https://colab.research.google.com/assets/colab-badge.svg\" alt=\"Open In Colab\"/></a>"
      ]
    },
    {
      "cell_type": "code",
      "execution_count": null,
      "metadata": {
        "id": "H0mXbQvYiZd7"
      },
      "outputs": [],
      "source": [
        "##0716"
      ]
    },
    {
      "cell_type": "markdown",
      "source": [
        "##20220709 作業參考解答"
      ],
      "metadata": {
        "id": "ESDPzoRiit-f"
      }
    },
    {
      "cell_type": "code",
      "source": [
        "!pip install"
      ],
      "metadata": {
        "id": "Y_P6Sfyoi6Ng"
      },
      "execution_count": null,
      "outputs": []
    },
    {
      "cell_type": "code",
      "source": [
        "import gradio"
      ],
      "metadata": {
        "id": "vcQ4l_Yzjrtz"
      },
      "execution_count": null,
      "outputs": []
    },
    {
      "cell_type": "markdown",
      "source": [
        "##註冊zerojudge\n",
        "https://zerojudge.tw/Problems\n",
        "姊姊看底下\\題目\n",
        "https://zerojudge.tw/ShowProblem?problemid=a002\n",
        "https://zerojudge.tw/ShowProblem?problemid=a003"
      ],
      "metadata": {
        "id": "zt1a6iDDnNO7"
      }
    },
    {
      "cell_type": "markdown",
      "source": [
        "##資料分析簡介\n",
        "*Numpy \n",
        "  *Numerical Python\n",
        "  *科學運算基礎套件 \n",
        "*MatPlotLib\n",
        "  *Matrix Plotting Library\n",
        "  *繪圖機處套件\n",
        "*Pandas\n",
        "  *Panel Data\n",
        "  *資料分析基礎套件"
      ],
      "metadata": {
        "id": "vUkBIDJXnpHc"
      }
    },
    {
      "cell_type": "markdown",
      "source": [
        "```python\n",
        "import numpy as np\n",
        "import mathlotlib.pyplot as plt\n",
        "import pandas as pd"
      ],
      "metadata": {
        "id": "Ri1lJSA5qZ5t"
      }
    },
    {
      "cell_type": "markdown",
      "source": [
        "##Numpy\n",
        "* new data type\n",
        "  *ndarray => multi-dimentional array\n",
        "* new function to process data\n",
        "  *ufunc => Universal Functions\n"
      ],
      "metadata": {
        "id": "PTBfzUhxoDW9"
      }
    },
    {
      "cell_type": "markdown",
      "source": [
        ""
      ],
      "metadata": {
        "id": "XmMK7yGso1_T"
      }
    }
  ]
}