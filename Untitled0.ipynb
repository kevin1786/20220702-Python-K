{
  "nbformat": 4,
  "nbformat_minor": 0,
  "metadata": {
    "colab": {
      "name": "Untitled0.ipynb",
      "provenance": [],
      "authorship_tag": "ABX9TyO9ZEzrztvie1BH9vDkRrXH",
      "include_colab_link": true
    },
    "kernelspec": {
      "name": "python3",
      "display_name": "Python 3"
    },
    "language_info": {
      "name": "python"
    }
  },
  "cells": [
    {
      "cell_type": "markdown",
      "metadata": {
        "id": "view-in-github",
        "colab_type": "text"
      },
      "source": [
        "<a href=\"https://colab.research.google.com/github/kevin1786/20220702-Python-K/blob/main/Untitled0.ipynb\" target=\"_parent\"><img src=\"https://colab.research.google.com/assets/colab-badge.svg\" alt=\"Open In Colab\"/></a>"
      ]
    },
    {
      "cell_type": "code",
      "execution_count": null,
      "metadata": {
        "id": "igmBXSVmgKcd"
      },
      "outputs": [],
      "source": [
        "#20220709\n"
      ]
    },
    {
      "cell_type": "markdown",
      "source": [
        "##初學者需要知道的概念\n",
        "\n",
        "*資料型態\n",
        "  *int\n",
        "  *float\n",
        "  *bool\n",
        "  *str\n",
        "*資料型態\n",
        "  *"
      ],
      "metadata": {
        "id": "ayEyUAYEhyWL"
      }
    }
  ]
}