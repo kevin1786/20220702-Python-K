{
  "nbformat": 4,
  "nbformat_minor": 0,
  "metadata": {
    "colab": {
      "name": "20220709.ipynb",
      "provenance": [],
      "include_colab_link": true
    },
    "kernelspec": {
      "name": "python3",
      "display_name": "Python 3"
    },
    "language_info": {
      "name": "python"
    }
  },
  "cells": [
    {
      "cell_type": "markdown",
      "metadata": {
        "id": "view-in-github",
        "colab_type": "text"
      },
      "source": [
        "<a href=\"https://colab.research.google.com/github/kevin1786/20220702-Python-K/blob/main/20220709.ipynb\" target=\"_parent\"><img src=\"https://colab.research.google.com/assets/colab-badge.svg\" alt=\"Open In Colab\"/></a>"
      ]
    },
    {
      "cell_type": "markdown",
      "source": [
        "# 20220709"
      ],
      "metadata": {
        "id": "ygilIRMPgKdf"
      }
    },
    {
      "cell_type": "markdown",
      "source": [
        "## 初學者需要知道的概念\n",
        "\n",
        "* 資料型態\n",
        "  * int ==> 整數 (0, 1, 2, ...)\n",
        "  * float ==> 浮點數 (3.14, 1.1, ...)\n",
        "  * bool ==> 布林變數 (True, False)\n",
        "  * str ==> 字串 (\"dog\", 'cat',...)\n",
        "* 容器型別\n",
        "  * list ==> 串列 [ ]\n",
        "  * tuple ==> 元組 ( )\n",
        "  * dict ==> 字典 { }\n",
        "  * set ==> 集合 { }\n",
        "* 基礎語法\n",
        "  * loops ==> 迴圈\n",
        "  * functions ==> 函式\n",
        "  * if statements ==> 條件式\n",
        "  * exception handling ==> 例外處理"
      ],
      "metadata": {
        "id": "FDg8snhVgS4p"
      }
    },
    {
      "cell_type": "markdown",
      "source": [
        "# loops: for, while"
      ],
      "metadata": {
        "id": "prpglV28mWQM"
      }
    },
    {
      "cell_type": "markdown",
      "source": [
        "## for loops\n",
        "\n",
        "### 基本語法\n",
        "\n",
        "```python\n",
        "for 變數 in 資料結構:\n",
        "  程式區塊 (裡面可以使用上面的變數)\n",
        "```"
      ],
      "metadata": {
        "id": "0qj5D5uomdJY"
      }
    },
    {
      "cell_type": "code",
      "execution_count": null,
      "metadata": {
        "colab": {
          "base_uri": "https://localhost:8080/"
        },
        "id": "GdOptU3rfv1a",
        "outputId": "330927b2-c758-46f9-948c-263be7478e65"
      },
      "outputs": [
        {
          "output_type": "stream",
          "name": "stdout",
          "text": [
            "程式區塊開始\n",
            "0\n",
            "程式區塊結束\n",
            "程式區塊開始\n",
            "1\n",
            "程式區塊結束\n",
            "程式區塊開始\n",
            "2\n",
            "程式區塊結束\n"
          ]
        }
      ],
      "source": [
        "for i in range(3):\n",
        "  print(\"程式區塊開始\")\n",
        "  print(i)\n",
        "  print(\"程式區塊結束\")"
      ]
    },
    {
      "cell_type": "code",
      "source": [
        "for i in range(3):\n",
        "  print(\"程式區塊開始\")\n",
        "  print(i)\n",
        "print(\"程式區塊結束\")"
      ],
      "metadata": {
        "colab": {
          "base_uri": "https://localhost:8080/"
        },
        "id": "etbaQLaFnyH7",
        "outputId": "617e3828-3cde-456b-efba-23a6391d8ee9"
      },
      "execution_count": null,
      "outputs": [
        {
          "output_type": "stream",
          "name": "stdout",
          "text": [
            "程式區塊開始\n",
            "0\n",
            "程式區塊開始\n",
            "1\n",
            "程式區塊開始\n",
            "2\n",
            "程式區塊結束\n"
          ]
        }
      ]
    },
    {
      "cell_type": "code",
      "source": [
        "for i in range(3):\n",
        "print(\"程式區塊開始\")\n",
        "print(i)\n",
        "print(\"程式區塊結束\")"
      ],
      "metadata": {
        "colab": {
          "base_uri": "https://localhost:8080/",
          "height": 133
        },
        "id": "OHQjOeTzn9SU",
        "outputId": "f3c74ee2-6f57-4cf8-da65-c07beea2ec4a"
      },
      "execution_count": null,
      "outputs": [
        {
          "output_type": "error",
          "ename": "IndentationError",
          "evalue": "ignored",
          "traceback": [
            "\u001b[0;36m  File \u001b[0;32m\"<ipython-input-3-9e4012335ee3>\"\u001b[0;36m, line \u001b[0;32m2\u001b[0m\n\u001b[0;31m    print(\"程式區塊開始\")\u001b[0m\n\u001b[0m        ^\u001b[0m\n\u001b[0;31mIndentationError\u001b[0m\u001b[0;31m:\u001b[0m expected an indented block\n"
          ]
        }
      ]
    },
    {
      "cell_type": "markdown",
      "source": [
        "## while loops\n",
        "\n",
        "### 基本語法\n",
        "\n",
        "```python\n",
        "while 條件式:\n",
        "  程式區塊\n",
        "```"
      ],
      "metadata": {
        "id": "OwC-2mrfoNvu"
      }
    },
    {
      "cell_type": "code",
      "source": [
        "x = 0\n",
        "while x < 10:\n",
        "  print(x)\n",
        "  x = x + 1"
      ],
      "metadata": {
        "id": "AElKrfogoaod"
      },
      "execution_count": null,
      "outputs": []
    },
    {
      "cell_type": "markdown",
      "source": [
        "## 寫一個九九乘法表 (可以使用巢狀迴圈)\n",
        "\n",
        "巢狀迴圈：nested loops\n",
        "\n",
        "可以用 for 迴圈或 while 迴圈做做看！"
      ],
      "metadata": {
        "id": "5PhME8expfLQ"
      }
    },
    {
      "cell_type": "markdown",
      "source": [
        "### 方法一"
      ],
      "metadata": {
        "id": "Wg4Iq7Lps9Uw"
      }
    },
    {
      "cell_type": "code",
      "source": [
        "for i in range(5):\n",
        "  print(i)"
      ],
      "metadata": {
        "colab": {
          "base_uri": "https://localhost:8080/"
        },
        "id": "AYb-pAW3pqAK",
        "outputId": "b74c014e-ad66-4ea4-cf53-d75f8d4eee53"
      },
      "execution_count": null,
      "outputs": [
        {
          "output_type": "stream",
          "name": "stdout",
          "text": [
            "0\n",
            "1\n",
            "2\n",
            "3\n",
            "4\n"
          ]
        }
      ]
    },
    {
      "cell_type": "code",
      "source": [
        "list(range(5))"
      ],
      "metadata": {
        "colab": {
          "base_uri": "https://localhost:8080/"
        },
        "id": "8c7Ve_lFpyHa",
        "outputId": "48d7bf61-ee1f-4e18-b630-bd21d6045d52"
      },
      "execution_count": null,
      "outputs": [
        {
          "output_type": "execute_result",
          "data": {
            "text/plain": [
              "[0, 1, 2, 3, 4]"
            ]
          },
          "metadata": {},
          "execution_count": 9
        }
      ]
    },
    {
      "cell_type": "code",
      "source": [
        "list(range(2, 10))"
      ],
      "metadata": {
        "colab": {
          "base_uri": "https://localhost:8080/"
        },
        "id": "GDDzJ3VFqJ02",
        "outputId": "09318f7f-bf2f-474e-98fe-aae9667d2f95"
      },
      "execution_count": null,
      "outputs": [
        {
          "output_type": "execute_result",
          "data": {
            "text/plain": [
              "[2, 3, 4, 5, 6, 7, 8, 9]"
            ]
          },
          "metadata": {},
          "execution_count": 10
        }
      ]
    },
    {
      "cell_type": "code",
      "source": [
        "for i in range(2, 10):\n",
        "  print(i)"
      ],
      "metadata": {
        "colab": {
          "base_uri": "https://localhost:8080/"
        },
        "id": "lM0wr2yQpuuj",
        "outputId": "97061dab-2759-4ad9-ab8c-72b45aead11d"
      },
      "execution_count": null,
      "outputs": [
        {
          "output_type": "stream",
          "name": "stdout",
          "text": [
            "2\n",
            "3\n",
            "4\n",
            "5\n",
            "6\n",
            "7\n",
            "8\n",
            "9\n"
          ]
        }
      ]
    },
    {
      "cell_type": "code",
      "source": [
        "# hint\n",
        "for i in range(2, 10):\n",
        "  for j in range(2, 10):\n",
        "    print(i, \"x\", j)"
      ],
      "metadata": {
        "id": "LVFxRyvWqWm0"
      },
      "execution_count": null,
      "outputs": []
    },
    {
      "cell_type": "code",
      "source": [
        "for i in range(2, 10):\n",
        "  for j in range(2, 10):\n",
        "    print(i, \"x\", j, \"=\", i*j)"
      ],
      "metadata": {
        "id": "x5gKx5ndsYFY"
      },
      "execution_count": null,
      "outputs": []
    },
    {
      "cell_type": "markdown",
      "source": [
        "### 方法二"
      ],
      "metadata": {
        "id": "gGc0ExvZtAEi"
      }
    },
    {
      "cell_type": "markdown",
      "source": [
        "我想要印出九九乘法表(像上面一樣)！\n",
        "\n",
        "請問底下的程式，哪裡錯了？"
      ],
      "metadata": {
        "id": "9Ow5NF9Ht6fJ"
      }
    },
    {
      "cell_type": "code",
      "source": [
        "i = 2\n",
        "j = 2\n",
        "while i < 10:\n",
        "  while j < 10:\n",
        "    print(i, \"x\", j, \"=\", i*j)\n",
        "    j = j + 1\n",
        "  i = i + 1"
      ],
      "metadata": {
        "colab": {
          "base_uri": "https://localhost:8080/"
        },
        "id": "VZUBsZ69tCkO",
        "outputId": "491201dc-2dea-4733-d6a8-24d82d80667e"
      },
      "execution_count": null,
      "outputs": [
        {
          "output_type": "stream",
          "name": "stdout",
          "text": [
            "2 x 2 = 4\n",
            "2 x 3 = 6\n",
            "2 x 4 = 8\n",
            "2 x 5 = 10\n",
            "2 x 6 = 12\n",
            "2 x 7 = 14\n",
            "2 x 8 = 16\n",
            "2 x 9 = 18\n"
          ]
        }
      ]
    },
    {
      "cell_type": "code",
      "source": [
        "i = 2\n",
        "while i < 10:\n",
        "  j = 2\n",
        "  while j < 10:\n",
        "    print(i, \"x\", j, \"=\", i*j)\n",
        "    j = j + 1\n",
        "  i = i + 1"
      ],
      "metadata": {
        "id": "9L4xl_m55_9I"
      },
      "execution_count": null,
      "outputs": []
    },
    {
      "cell_type": "markdown",
      "source": [
        "# 條件式 (if statements)\n",
        "\n",
        "語法一:\n",
        "\n",
        "使用條件式來決定程式區塊是否被執行。\n",
        "\n",
        "```python\n",
        "if 條件式:\n",
        "  程式區塊\n",
        "```"
      ],
      "metadata": {
        "id": "TY7NMJVuuTNp"
      }
    },
    {
      "cell_type": "code",
      "source": [
        "a = 3\n",
        "b = 4\n",
        "\n",
        "if a > b:\n",
        "  print(\"a > b\")"
      ],
      "metadata": {
        "id": "PXfq2vBku25f"
      },
      "execution_count": null,
      "outputs": []
    },
    {
      "cell_type": "markdown",
      "source": [
        "語法二:\n",
        "\n",
        "使用條件式來決定執行程式區塊1還是程式區塊2。\n",
        "\n",
        "```python\n",
        "if 條件式:\n",
        "  程式區塊1\n",
        "else:\n",
        "  程式區塊2\n",
        "```\n"
      ],
      "metadata": {
        "id": "RhMyxAd8wqbF"
      }
    },
    {
      "cell_type": "code",
      "source": [
        "a = 3\n",
        "b = 2\n",
        "\n",
        "if a > b:\n",
        "  print(\"a > b\")\n",
        "else:\n",
        "  print(\"a <= b\")"
      ],
      "metadata": {
        "colab": {
          "base_uri": "https://localhost:8080/"
        },
        "id": "7GMmMHHDv-vr",
        "outputId": "c598f0e1-7123-4a16-bfff-2c2c769c1e13"
      },
      "execution_count": null,
      "outputs": [
        {
          "output_type": "stream",
          "name": "stdout",
          "text": [
            "a > b\n"
          ]
        }
      ]
    },
    {
      "cell_type": "markdown",
      "source": [
        "語法三:\n",
        "\n",
        "使用條件式1跟條件式2來決定執行程式區塊1, 程式區塊2, 還是程式區塊3。\n",
        "\n",
        "```python\n",
        "if 條件式1:\n",
        "  程式區塊1\n",
        "elif 條件式2:\n",
        "  程式區塊2\n",
        "else:\n",
        "  程式區塊3\n",
        "```"
      ],
      "metadata": {
        "id": "DfKJd8vewvVI"
      }
    },
    {
      "cell_type": "code",
      "source": [
        "a = 2\n",
        "b = 2\n",
        "\n",
        "if a > b:\n",
        "  print(\"a > b\")\n",
        "elif a < b:\n",
        "  print(\"a < b\")\n",
        "else:\n",
        "  print(\"a = b\")"
      ],
      "metadata": {
        "colab": {
          "base_uri": "https://localhost:8080/"
        },
        "id": "wTJwf0oZwRjN",
        "outputId": "82dd1e22-d979-47f8-dda2-498e991a9b7f"
      },
      "execution_count": null,
      "outputs": [
        {
          "output_type": "stream",
          "name": "stdout",
          "text": [
            "a = b\n"
          ]
        }
      ]
    },
    {
      "cell_type": "code",
      "source": [
        "a = 3\n",
        "b = 2"
      ],
      "metadata": {
        "id": "MGyTQrZTxtvD"
      },
      "execution_count": null,
      "outputs": []
    },
    {
      "cell_type": "code",
      "source": [
        "a == b"
      ],
      "metadata": {
        "colab": {
          "base_uri": "https://localhost:8080/"
        },
        "id": "OpD-TLB9xuaH",
        "outputId": "b19cfce5-5782-4c06-a0d5-b29be7a5777d"
      },
      "execution_count": null,
      "outputs": [
        {
          "output_type": "execute_result",
          "data": {
            "text/plain": [
              "False"
            ]
          },
          "metadata": {},
          "execution_count": 26
        }
      ]
    },
    {
      "cell_type": "markdown",
      "source": [
        "## 練習\n",
        "\n",
        "請計算 bmi 並判斷體位。\n",
        "\n",
        "$$ bmi = \\frac{體重(公斤)}{身高(公尺)^2} $$\n",
        "\n",
        "|條件|體衛|\n",
        "|:-:|:-:|\n",
        "|bmi < 18 | 體重過輕 |\n",
        "|18 <= bmi < 24 | 健康體位 |\n",
        "|bmi > 24 | 體重過重| "
      ],
      "metadata": {
        "id": "_yGCqclxyGXv"
      }
    },
    {
      "cell_type": "code",
      "source": [
        "weight = 80\n",
        "height = 1.83\n",
        "\n",
        "bmi = weight/(height**2)"
      ],
      "metadata": {
        "id": "lu24JETxxwCf"
      },
      "execution_count": null,
      "outputs": []
    },
    {
      "cell_type": "code",
      "source": [
        "bmi"
      ],
      "metadata": {
        "colab": {
          "base_uri": "https://localhost:8080/"
        },
        "id": "HjvMcUBPzPcm",
        "outputId": "ffdc469c-63bf-43c0-d224-e5e9c065c76a"
      },
      "execution_count": null,
      "outputs": [
        {
          "output_type": "execute_result",
          "data": {
            "text/plain": [
              "23.888440980620498"
            ]
          },
          "metadata": {},
          "execution_count": 30
        }
      ]
    },
    {
      "cell_type": "code",
      "source": [
        "if bmi < 18:\n",
        "  print(\"體重過輕\")\n",
        "elif bmi > 24:\n",
        "  print(\"體重過重\")\n",
        "else:\n",
        "  print(\"健康體位\")"
      ],
      "metadata": {
        "id": "g-ipftKTzQMT",
        "colab": {
          "base_uri": "https://localhost:8080/"
        },
        "outputId": "0f3e3a96-1b41-4722-c7f7-fb2217ab43c0"
      },
      "execution_count": null,
      "outputs": [
        {
          "output_type": "stream",
          "name": "stdout",
          "text": [
            "健康體位\n"
          ]
        }
      ]
    },
    {
      "cell_type": "code",
      "source": [
        "def health1(w, h):\n",
        "  bmi = w/(h**2)\n",
        "  if bmi < 18:\n",
        "    print(\"體重過輕\")\n",
        "  elif bmi > 24:\n",
        "    print(\"體重過重\")\n",
        "  else:\n",
        "    print(\"健康體位\")"
      ],
      "metadata": {
        "id": "lgdURble2p0Q"
      },
      "execution_count": null,
      "outputs": []
    },
    {
      "cell_type": "code",
      "source": [
        "health1(80, 1.83)"
      ],
      "metadata": {
        "colab": {
          "base_uri": "https://localhost:8080/"
        },
        "id": "DKdbaJek28Xy",
        "outputId": "ff424883-d4bc-40bf-833a-2c364e5c2285"
      },
      "execution_count": null,
      "outputs": [
        {
          "output_type": "stream",
          "name": "stdout",
          "text": [
            "健康體位\n"
          ]
        }
      ]
    },
    {
      "cell_type": "code",
      "source": [
        "def health2(w, h):\n",
        "  bmi = w/(h**2)\n",
        "  if bmi < 18:\n",
        "    return \"體重過輕\"\n",
        "  elif bmi > 24:\n",
        "    return \"體重過重\"\n",
        "  else:\n",
        "    return \"健康體位\""
      ],
      "metadata": {
        "id": "qPjK8yad4ETQ"
      },
      "execution_count": null,
      "outputs": []
    },
    {
      "cell_type": "code",
      "source": [
        "health2(80, 1.83)"
      ],
      "metadata": {
        "colab": {
          "base_uri": "https://localhost:8080/"
        },
        "id": "aYzGrIA94Rl5",
        "outputId": "9b72e105-4e97-4aff-9137-08306423a11a"
      },
      "execution_count": null,
      "outputs": [
        {
          "output_type": "execute_result",
          "data": {
            "text/plain": [
              "'健康體位'"
            ],
            "application/vnd.google.colaboratory.intrinsic+json": {
              "type": "string"
            }
          },
          "metadata": {},
          "execution_count": 42
        }
      ]
    },
    {
      "cell_type": "code",
      "source": [
        "x = health1(80, 1.83)\n",
        "y = health2(80, 1.83)"
      ],
      "metadata": {
        "colab": {
          "base_uri": "https://localhost:8080/"
        },
        "id": "vg-Btnhn4Sxb",
        "outputId": "ca75e3c1-b0c0-4021-8d40-c78e238038da"
      },
      "execution_count": null,
      "outputs": [
        {
          "output_type": "stream",
          "name": "stdout",
          "text": [
            "健康體位\n"
          ]
        }
      ]
    },
    {
      "cell_type": "code",
      "source": [
        "print(x)"
      ],
      "metadata": {
        "colab": {
          "base_uri": "https://localhost:8080/"
        },
        "id": "FCYoeoV94pDO",
        "outputId": "aba468ae-6a46-4915-82bc-1bd33556641f"
      },
      "execution_count": null,
      "outputs": [
        {
          "output_type": "stream",
          "name": "stdout",
          "text": [
            "None\n"
          ]
        }
      ]
    },
    {
      "cell_type": "code",
      "source": [
        "print(y)"
      ],
      "metadata": {
        "colab": {
          "base_uri": "https://localhost:8080/"
        },
        "id": "vqY4NiC84sSd",
        "outputId": "6a3c6cdf-5249-40d4-8399-ca2ce37e9d5a"
      },
      "execution_count": null,
      "outputs": [
        {
          "output_type": "stream",
          "name": "stdout",
          "text": [
            "健康體位\n"
          ]
        }
      ]
    },
    {
      "cell_type": "code",
      "source": [
        "# 用 input 取得的資料型態為: str\n",
        "# 如果要做數值運算，需要轉型\n",
        "x = input(\"請輸入資料：\")"
      ],
      "metadata": {
        "colab": {
          "base_uri": "https://localhost:8080/"
        },
        "id": "cqNkZq6k4uC9",
        "outputId": "95a21b2b-5343-4d37-d9b5-edff8c3079cc"
      },
      "execution_count": null,
      "outputs": [
        {
          "name": "stdout",
          "output_type": "stream",
          "text": [
            "請輸入資料：123\n"
          ]
        }
      ]
    },
    {
      "cell_type": "code",
      "source": [
        "x"
      ],
      "metadata": {
        "colab": {
          "base_uri": "https://localhost:8080/"
        },
        "id": "9ApD-uBX7Kzx",
        "outputId": "0958b255-e2b7-460b-b8d8-4c78ee51542d"
      },
      "execution_count": null,
      "outputs": [
        {
          "output_type": "execute_result",
          "data": {
            "text/plain": [
              "'123'"
            ],
            "application/vnd.google.colaboratory.intrinsic+json": {
              "type": "string"
            }
          },
          "metadata": {},
          "execution_count": 53
        }
      ]
    },
    {
      "cell_type": "code",
      "source": [
        "# 底下的 float() 是將 str 轉換成 float\n",
        "w = input(\"請輸入體重(公斤)：\")\n",
        "h = input(\"請輸入身高(公尺)：\")\n",
        "health2(float(w), float(h))"
      ],
      "metadata": {
        "colab": {
          "base_uri": "https://localhost:8080/"
        },
        "id": "wnR5oE6M7blB",
        "outputId": "0440b735-d8b7-462c-9e47-992708784379"
      },
      "execution_count": null,
      "outputs": [
        {
          "name": "stdout",
          "output_type": "stream",
          "text": [
            "請輸入體重(公斤)：80\n",
            "請輸入身高(公尺)：1.83\n"
          ]
        },
        {
          "output_type": "execute_result",
          "data": {
            "text/plain": [
              "'健康體位'"
            ],
            "application/vnd.google.colaboratory.intrinsic+json": {
              "type": "string"
            }
          },
          "metadata": {},
          "execution_count": 54
        }
      ]
    },
    {
      "cell_type": "markdown",
      "source": [
        "# Gradio 使用簡介"
      ],
      "metadata": {
        "id": "Oe2KW_lM_sFh"
      }
    },
    {
      "cell_type": "code",
      "source": [
        "!pip install gradio"
      ],
      "metadata": {
        "id": "9wwma8dR_uhI"
      },
      "execution_count": null,
      "outputs": []
    },
    {
      "cell_type": "code",
      "source": [
        "def greet(name):\n",
        "  return \"Hello \" + name + \"!\"\n",
        "\n",
        "greet(\"World\")"
      ],
      "metadata": {
        "colab": {
          "base_uri": "https://localhost:8080/",
          "height": 36
        },
        "id": "-ET0qLD5_1r5",
        "outputId": "604276c3-d4bc-4e51-ce2c-59a17ca13349"
      },
      "execution_count": null,
      "outputs": [
        {
          "output_type": "execute_result",
          "data": {
            "text/plain": [
              "'Hello World!'"
            ],
            "application/vnd.google.colaboratory.intrinsic+json": {
              "type": "string"
            }
          },
          "metadata": {},
          "execution_count": 56
        }
      ]
    },
    {
      "cell_type": "code",
      "source": [
        "import gradio"
      ],
      "metadata": {
        "id": "-J31Vy97AW2j"
      },
      "execution_count": null,
      "outputs": []
    },
    {
      "cell_type": "code",
      "source": [
        "gradio.Interface(greet, \"text\", \"text\", title=\"打招呼\").launch(share=True)"
      ],
      "metadata": {
        "colab": {
          "base_uri": "https://localhost:8080/",
          "height": 666
        },
        "id": "1-4MgmZSAR1P",
        "outputId": "0ea8f5fc-594d-4a51-ae65-d3e6b5182a73"
      },
      "execution_count": null,
      "outputs": [
        {
          "output_type": "stream",
          "name": "stdout",
          "text": [
            "Colab notebook detected. To show errors in colab notebook, set `debug=True` in `launch()`\n",
            "Running on public URL: https://54690.gradio.app\n",
            "\n",
            "This share link expires in 72 hours. For free permanent hosting, check out Spaces (https://huggingface.co/spaces)\n"
          ]
        },
        {
          "output_type": "display_data",
          "data": {
            "text/plain": [
              "<IPython.core.display.HTML object>"
            ],
            "text/html": [
              "<div><iframe src=\"https://54690.gradio.app\" width=\"900\" height=\"500\" allow=\"autoplay; camera; microphone;\" frameborder=\"0\" allowfullscreen></iframe></div>"
            ]
          },
          "metadata": {}
        },
        {
          "output_type": "execute_result",
          "data": {
            "text/plain": [
              "(<gradio.routes.App at 0x7f695ab84d50>,\n",
              " 'http://127.0.0.1:7861/',\n",
              " 'https://54690.gradio.app')"
            ]
          },
          "metadata": {},
          "execution_count": 59
        }
      ]
    },
    {
      "cell_type": "code",
      "source": [
        "def health1(w, h):\n",
        "  bmi = float(w)/(float(h)**2)\n",
        "  if bmi < 18:\n",
        "    print(\"體重過輕\")\n",
        "  elif bmi > 24:\n",
        "    print(\"體重過重\")\n",
        "  else:\n",
        "    print(\"健康體位\")"
      ],
      "metadata": {
        "id": "8DbV0fmZEhit"
      },
      "execution_count": null,
      "outputs": []
    },
    {
      "cell_type": "code",
      "source": [
        "def health2(w, h):\n",
        "  bmi = float(w)/(float(h)**2)\n",
        "  if bmi < 18:\n",
        "    return \"體重過輕\"\n",
        "  elif bmi > 24:\n",
        "    return \"體重過重\"\n",
        "  else:\n",
        "    return \"健康體位\""
      ],
      "metadata": {
        "id": "Is70wJPhCryZ"
      },
      "execution_count": null,
      "outputs": []
    },
    {
      "cell_type": "code",
      "source": [
        "def health3(w, h):\n",
        "  bmi = float(w)/(float(h)**2)\n",
        "  if bmi < 18:\n",
        "    return bmi, \"體重過輕\"\n",
        "  elif bmi > 24:\n",
        "    return bmi, \"體重過重\"\n",
        "  else:\n",
        "    return bmi, \"健康體位\""
      ],
      "metadata": {
        "id": "dpmoteeGGRNA"
      },
      "execution_count": null,
      "outputs": []
    },
    {
      "cell_type": "code",
      "source": [
        "gradio.Interface(health3, [\"text\",\"text\"], [\"text\",\"text\"], title=\"判斷體位狀況\").launch(share=True)"
      ],
      "metadata": {
        "colab": {
          "base_uri": "https://localhost:8080/",
          "height": 666
        },
        "id": "E-RZorsUCQVe",
        "outputId": "3a2b60a0-d515-4ced-b994-7f34beaa146b"
      },
      "execution_count": null,
      "outputs": [
        {
          "output_type": "stream",
          "name": "stdout",
          "text": [
            "Colab notebook detected. To show errors in colab notebook, set `debug=True` in `launch()`\n",
            "Running on public URL: https://51625.gradio.app\n",
            "\n",
            "This share link expires in 72 hours. For free permanent hosting, check out Spaces (https://huggingface.co/spaces)\n"
          ]
        },
        {
          "output_type": "display_data",
          "data": {
            "text/plain": [
              "<IPython.core.display.HTML object>"
            ],
            "text/html": [
              "<div><iframe src=\"https://51625.gradio.app\" width=\"900\" height=\"500\" allow=\"autoplay; camera; microphone;\" frameborder=\"0\" allowfullscreen></iframe></div>"
            ]
          },
          "metadata": {}
        },
        {
          "output_type": "execute_result",
          "data": {
            "text/plain": [
              "(<gradio.routes.App at 0x7f695ab97f50>,\n",
              " 'http://127.0.0.1:7865/',\n",
              " 'https://51625.gradio.app')"
            ]
          },
          "metadata": {},
          "execution_count": 66
        }
      ]
    },
    {
      "cell_type": "code",
      "source": [
        "import requests"
      ],
      "metadata": {
        "id": "iq6VRqknG63w"
      },
      "execution_count": null,
      "outputs": []
    },
    {
      "cell_type": "code",
      "source": [
        "def lookup(word):\n",
        "  url = f\"https://www.moedict.tw/uni/{word}\"\n",
        "  return requests.get(url).json()"
      ],
      "metadata": {
        "id": "X4ptVyDsG70-"
      },
      "execution_count": null,
      "outputs": []
    },
    {
      "cell_type": "code",
      "source": [
        "gradio.Interface(lookup, \"text\", \"text\", title=\"萌典API使用範例\").launch(share=True)"
      ],
      "metadata": {
        "colab": {
          "base_uri": "https://localhost:8080/",
          "height": 666
        },
        "id": "6pMLdlCqHDT-",
        "outputId": "f8a72b4a-919d-4810-9a36-ff06c56021e5"
      },
      "execution_count": null,
      "outputs": [
        {
          "output_type": "stream",
          "name": "stdout",
          "text": [
            "Colab notebook detected. To show errors in colab notebook, set `debug=True` in `launch()`\n",
            "Running on public URL: https://40173.gradio.app\n",
            "\n",
            "This share link expires in 72 hours. For free permanent hosting, check out Spaces (https://huggingface.co/spaces)\n"
          ]
        },
        {
          "output_type": "display_data",
          "data": {
            "text/plain": [
              "<IPython.core.display.HTML object>"
            ],
            "text/html": [
              "<div><iframe src=\"https://40173.gradio.app\" width=\"900\" height=\"500\" allow=\"autoplay; camera; microphone;\" frameborder=\"0\" allowfullscreen></iframe></div>"
            ]
          },
          "metadata": {}
        },
        {
          "output_type": "execute_result",
          "data": {
            "text/plain": [
              "(<gradio.routes.App at 0x7f694f69d550>,\n",
              " 'http://127.0.0.1:7866/',\n",
              " 'https://40173.gradio.app')"
            ]
          },
          "metadata": {},
          "execution_count": 69
        }
      ]
    },
    {
      "cell_type": "markdown",
      "source": [
        "# 爬蟲簡介"
      ],
      "metadata": {
        "id": "ON6ExGB9fJhY"
      }
    },
    {
      "cell_type": "code",
      "source": [
        "import requests"
      ],
      "metadata": {
        "id": "Fc9R5mgcfPx9"
      },
      "execution_count": null,
      "outputs": []
    },
    {
      "cell_type": "code",
      "source": [
        "url = \"https://victorgau.github.io/khpy_web_intro/html_only.html\""
      ],
      "metadata": {
        "id": "yj3hZlLQfjAA"
      },
      "execution_count": null,
      "outputs": []
    },
    {
      "cell_type": "code",
      "source": [
        "r = requests.get(url)"
      ],
      "metadata": {
        "id": "lRzPd6wPflY9"
      },
      "execution_count": null,
      "outputs": []
    },
    {
      "cell_type": "code",
      "source": [
        "print(r.text)"
      ],
      "metadata": {
        "colab": {
          "base_uri": "https://localhost:8080/"
        },
        "id": "Y_eNYnw0fuAD",
        "outputId": "8feb17db-7852-4fd6-f115-5fbe8b656a09"
      },
      "execution_count": null,
      "outputs": [
        {
          "output_type": "stream",
          "name": "stdout",
          "text": [
            "<!DOCTYPE html>\n",
            "<html>\n",
            "<head>\n",
            "    <title>HTML範例</title>\n",
            "</head>\n",
            "<body>\n",
            "\n",
            "<h1>哈囉！HTML！</h1>\n",
            "\n",
            "<img src=\"ninja.jpg\" />\n",
            "\n",
            "</body>\n",
            "</html>\n"
          ]
        }
      ]
    },
    {
      "cell_type": "code",
      "source": [
        "f = open(\"index.html\",\"w\")\n",
        "f.write(r.text)\n",
        "f.close()"
      ],
      "metadata": {
        "id": "Vq0_QYpkgeCh"
      },
      "execution_count": null,
      "outputs": []
    },
    {
      "cell_type": "markdown",
      "source": [
        "## json v.s. dict/list 差別"
      ],
      "metadata": {
        "id": "UMbSZ9wNlqeH"
      }
    },
    {
      "cell_type": "code",
      "source": [
        "d = {}"
      ],
      "metadata": {
        "id": "fzxH0P52hHQ1"
      },
      "execution_count": null,
      "outputs": []
    },
    {
      "cell_type": "code",
      "source": [
        "d['cat'] = \"貓咪\""
      ],
      "metadata": {
        "id": "T4m7Ma5Vlx7V"
      },
      "execution_count": null,
      "outputs": []
    },
    {
      "cell_type": "code",
      "source": [
        "d['dog'] = \"狗狗\""
      ],
      "metadata": {
        "id": "9a6FO1wql1E0"
      },
      "execution_count": null,
      "outputs": []
    },
    {
      "cell_type": "code",
      "source": [
        "d"
      ],
      "metadata": {
        "colab": {
          "base_uri": "https://localhost:8080/"
        },
        "id": "ljKFbsKcl3eS",
        "outputId": "0c32f72b-48ca-429d-fd52-ee6996d90849"
      },
      "execution_count": null,
      "outputs": [
        {
          "output_type": "execute_result",
          "data": {
            "text/plain": [
              "{'cat': '貓咪', 'dog': '狗狗'}"
            ]
          },
          "metadata": {},
          "execution_count": 112
        }
      ]
    },
    {
      "cell_type": "code",
      "source": [
        "type(d)"
      ],
      "metadata": {
        "colab": {
          "base_uri": "https://localhost:8080/"
        },
        "id": "MpVKM4WFl32w",
        "outputId": "0ede69e1-e31f-44ca-cf97-265062455bb4"
      },
      "execution_count": null,
      "outputs": [
        {
          "output_type": "execute_result",
          "data": {
            "text/plain": [
              "dict"
            ]
          },
          "metadata": {},
          "execution_count": 113
        }
      ]
    },
    {
      "cell_type": "code",
      "source": [
        "e = '{\"cat\": \"貓咪\", \"dog\": \"狗狗\"}'"
      ],
      "metadata": {
        "id": "U6UgbajxmDeD"
      },
      "execution_count": null,
      "outputs": []
    },
    {
      "cell_type": "code",
      "source": [
        "type(e)"
      ],
      "metadata": {
        "colab": {
          "base_uri": "https://localhost:8080/"
        },
        "id": "zJLkaTNFmJ6z",
        "outputId": "e3517897-2d4a-475f-bd9e-6112187048dd"
      },
      "execution_count": null,
      "outputs": [
        {
          "output_type": "execute_result",
          "data": {
            "text/plain": [
              "str"
            ]
          },
          "metadata": {},
          "execution_count": 115
        }
      ]
    },
    {
      "cell_type": "code",
      "source": [
        "print(e)"
      ],
      "metadata": {
        "colab": {
          "base_uri": "https://localhost:8080/"
        },
        "id": "AwGSegYimOOc",
        "outputId": "70947c11-3150-4038-c126-ceaf194c760e"
      },
      "execution_count": null,
      "outputs": [
        {
          "output_type": "stream",
          "name": "stdout",
          "text": [
            "{\"cat\": \"貓咪\", \"dog\": \"狗狗\"}\n"
          ]
        }
      ]
    },
    {
      "cell_type": "code",
      "source": [
        "import json"
      ],
      "metadata": {
        "id": "kirKYZqbmQ1C"
      },
      "execution_count": null,
      "outputs": []
    },
    {
      "cell_type": "code",
      "source": [
        "f = json.loads(e)"
      ],
      "metadata": {
        "id": "y5zVeVgem56m"
      },
      "execution_count": null,
      "outputs": []
    },
    {
      "cell_type": "code",
      "source": [
        "type(f)"
      ],
      "metadata": {
        "colab": {
          "base_uri": "https://localhost:8080/"
        },
        "id": "c9tnaTaXm996",
        "outputId": "1631f7b2-d8c4-482e-92cb-162587ddde40"
      },
      "execution_count": null,
      "outputs": [
        {
          "output_type": "execute_result",
          "data": {
            "text/plain": [
              "dict"
            ]
          },
          "metadata": {},
          "execution_count": 119
        }
      ]
    },
    {
      "cell_type": "code",
      "source": [
        "f"
      ],
      "metadata": {
        "colab": {
          "base_uri": "https://localhost:8080/"
        },
        "id": "U3lUPdKtnQlf",
        "outputId": "11c4ee9f-e796-4e4e-814c-32276e3f34d7"
      },
      "execution_count": null,
      "outputs": [
        {
          "output_type": "execute_result",
          "data": {
            "text/plain": [
              "{'cat': '貓咪', 'dog': '狗狗'}"
            ]
          },
          "metadata": {},
          "execution_count": 120
        }
      ]
    },
    {
      "cell_type": "markdown",
      "source": [
        "## 使用萌典API"
      ],
      "metadata": {
        "id": "hb87k-AQoXIO"
      }
    },
    {
      "cell_type": "code",
      "source": [
        "url = \"https://www.moedict.tw/uni/\""
      ],
      "metadata": {
        "id": "kQpkJysanSP7"
      },
      "execution_count": null,
      "outputs": []
    },
    {
      "cell_type": "code",
      "source": [
        "q = \"教室\""
      ],
      "metadata": {
        "id": "OrOx_JXzolJM"
      },
      "execution_count": null,
      "outputs": []
    },
    {
      "cell_type": "code",
      "source": [
        "url + q"
      ],
      "metadata": {
        "colab": {
          "base_uri": "https://localhost:8080/",
          "height": 36
        },
        "id": "Auz2VMQGotch",
        "outputId": "7df23a62-7e05-4f22-e99d-1961221de173"
      },
      "execution_count": null,
      "outputs": [
        {
          "output_type": "execute_result",
          "data": {
            "text/plain": [
              "'https://www.moedict.tw/uni/教室'"
            ],
            "application/vnd.google.colaboratory.intrinsic+json": {
              "type": "string"
            }
          },
          "metadata": {},
          "execution_count": 123
        }
      ]
    },
    {
      "cell_type": "code",
      "source": [
        "r = requests.get(url+q)"
      ],
      "metadata": {
        "id": "BAXKlY0jopdf"
      },
      "execution_count": null,
      "outputs": []
    },
    {
      "cell_type": "code",
      "source": [
        "print(r.text)"
      ],
      "metadata": {
        "id": "AnRh_3Jxoy8h"
      },
      "execution_count": null,
      "outputs": []
    },
    {
      "cell_type": "code",
      "source": [
        "data = json.loads(r.text)"
      ],
      "metadata": {
        "id": "nDk53YT3o5IJ"
      },
      "execution_count": null,
      "outputs": []
    },
    {
      "cell_type": "code",
      "source": [
        "type(data)"
      ],
      "metadata": {
        "colab": {
          "base_uri": "https://localhost:8080/"
        },
        "id": "ZR4hxcdQpsd9",
        "outputId": "487a522a-5fb0-451d-b83e-e71d718cfc92"
      },
      "execution_count": null,
      "outputs": [
        {
          "output_type": "execute_result",
          "data": {
            "text/plain": [
              "dict"
            ]
          },
          "metadata": {},
          "execution_count": 128
        }
      ]
    },
    {
      "cell_type": "code",
      "source": [
        "data"
      ],
      "metadata": {
        "colab": {
          "base_uri": "https://localhost:8080/"
        },
        "id": "BH8wqpMBp6PS",
        "outputId": "d0da6161-e303-4fac-a354-32dca4a44148"
      },
      "execution_count": null,
      "outputs": [
        {
          "output_type": "execute_result",
          "data": {
            "text/plain": [
              "{'heteronyms': [{'bopomofo': 'ㄐㄧㄠˋ ㄕˋ',\n",
              "   'bopomofo2': 'jiàu shr̀',\n",
              "   'definitions': [{'def': '學校裡進行教學活動的房間。',\n",
              "     'example': ['如：「實驗教室」、「音樂教室」。'],\n",
              "     'synonyms': '課堂,講堂'}],\n",
              "   'pinyin': 'jiào shì'}],\n",
              " 'title': '教室'}"
            ]
          },
          "metadata": {},
          "execution_count": 129
        }
      ]
    },
    {
      "cell_type": "code",
      "source": [
        "data.keys()"
      ],
      "metadata": {
        "colab": {
          "base_uri": "https://localhost:8080/"
        },
        "id": "uMPqjaCVpteZ",
        "outputId": "42317795-bb15-4eb4-c0ab-16212ac139dd"
      },
      "execution_count": null,
      "outputs": [
        {
          "output_type": "execute_result",
          "data": {
            "text/plain": [
              "dict_keys(['heteronyms', 'title'])"
            ]
          },
          "metadata": {},
          "execution_count": 130
        }
      ]
    },
    {
      "cell_type": "code",
      "source": [
        "data['heteronyms']"
      ],
      "metadata": {
        "colab": {
          "base_uri": "https://localhost:8080/"
        },
        "id": "8l0_5DPWqToR",
        "outputId": "bc1479d9-db81-4d6b-d7c2-ff2058a2280d"
      },
      "execution_count": null,
      "outputs": [
        {
          "output_type": "execute_result",
          "data": {
            "text/plain": [
              "[{'bopomofo': 'ㄐㄧㄠˋ ㄕˋ',\n",
              "  'bopomofo2': 'jiàu shr̀',\n",
              "  'definitions': [{'def': '學校裡進行教學活動的房間。',\n",
              "    'example': ['如：「實驗教室」、「音樂教室」。'],\n",
              "    'synonyms': '課堂,講堂'}],\n",
              "  'pinyin': 'jiào shì'}]"
            ]
          },
          "metadata": {},
          "execution_count": 131
        }
      ]
    },
    {
      "cell_type": "code",
      "source": [
        "data['heteronyms'][0]"
      ],
      "metadata": {
        "colab": {
          "base_uri": "https://localhost:8080/"
        },
        "id": "5advbh1AqZeT",
        "outputId": "547512d6-fcee-4f5f-f197-f27e60914445"
      },
      "execution_count": null,
      "outputs": [
        {
          "output_type": "execute_result",
          "data": {
            "text/plain": [
              "{'bopomofo': 'ㄐㄧㄠˋ ㄕˋ',\n",
              " 'bopomofo2': 'jiàu shr̀',\n",
              " 'definitions': [{'def': '學校裡進行教學活動的房間。',\n",
              "   'example': ['如：「實驗教室」、「音樂教室」。'],\n",
              "   'synonyms': '課堂,講堂'}],\n",
              " 'pinyin': 'jiào shì'}"
            ]
          },
          "metadata": {},
          "execution_count": 132
        }
      ]
    },
    {
      "cell_type": "code",
      "source": [
        "data['heteronyms'][0]['definitions']"
      ],
      "metadata": {
        "colab": {
          "base_uri": "https://localhost:8080/"
        },
        "id": "YzuS83bfqiwf",
        "outputId": "c7671521-a08e-408f-94ad-894a5ad572e5"
      },
      "execution_count": null,
      "outputs": [
        {
          "output_type": "execute_result",
          "data": {
            "text/plain": [
              "[{'def': '學校裡進行教學活動的房間。',\n",
              "  'example': ['如：「實驗教室」、「音樂教室」。'],\n",
              "  'synonyms': '課堂,講堂'}]"
            ]
          },
          "metadata": {},
          "execution_count": 133
        }
      ]
    },
    {
      "cell_type": "code",
      "source": [
        "data['heteronyms'][0]['definitions'][0]"
      ],
      "metadata": {
        "colab": {
          "base_uri": "https://localhost:8080/"
        },
        "id": "oaUe_HAxqrHX",
        "outputId": "fb38f93a-7407-4f2a-e2b5-d0bfb4bb8257"
      },
      "execution_count": null,
      "outputs": [
        {
          "output_type": "execute_result",
          "data": {
            "text/plain": [
              "{'def': '學校裡進行教學活動的房間。', 'example': ['如：「實驗教室」、「音樂教室」。'], 'synonyms': '課堂,講堂'}"
            ]
          },
          "metadata": {},
          "execution_count": 134
        }
      ]
    },
    {
      "cell_type": "code",
      "source": [
        "data['heteronyms'][0]['definitions'][0]['def']"
      ],
      "metadata": {
        "colab": {
          "base_uri": "https://localhost:8080/",
          "height": 36
        },
        "id": "2zWYMQyqqyRf",
        "outputId": "e6d723f8-4030-4614-e575-d352d18df5a9"
      },
      "execution_count": null,
      "outputs": [
        {
          "output_type": "execute_result",
          "data": {
            "text/plain": [
              "'學校裡進行教學活動的房間。'"
            ],
            "application/vnd.google.colaboratory.intrinsic+json": {
              "type": "string"
            }
          },
          "metadata": {},
          "execution_count": 135
        }
      ]
    },
    {
      "cell_type": "code",
      "source": [
        "data = requests.get(url+\"森林\").json()"
      ],
      "metadata": {
        "id": "uuEWb0sbq4Cq"
      },
      "execution_count": null,
      "outputs": []
    },
    {
      "cell_type": "code",
      "source": [
        "data['heteronyms'][0]['definitions'][0]['def']"
      ],
      "metadata": {
        "colab": {
          "base_uri": "https://localhost:8080/",
          "height": 36
        },
        "id": "MLBV3d5drbRX",
        "outputId": "54d06e94-81f3-467e-8beb-f2580d4a3cd5"
      },
      "execution_count": null,
      "outputs": [
        {
          "output_type": "execute_result",
          "data": {
            "text/plain": [
              "'樹木密生的寬廣地區。'"
            ],
            "application/vnd.google.colaboratory.intrinsic+json": {
              "type": "string"
            }
          },
          "metadata": {},
          "execution_count": 137
        }
      ]
    },
    {
      "cell_type": "code",
      "source": [
        "def lookup(word):\n",
        "  data = requests.get(url+word).json()\n",
        "  return data['heteronyms'][0]['definitions'][0]['def']"
      ],
      "metadata": {
        "id": "EMpNnBAdrfE-"
      },
      "execution_count": null,
      "outputs": []
    },
    {
      "cell_type": "code",
      "source": [
        "lookup(\"春天\")"
      ],
      "metadata": {
        "colab": {
          "base_uri": "https://localhost:8080/",
          "height": 36
        },
        "id": "ROTXM4Hkru-v",
        "outputId": "30ba3132-f35b-47a8-cff7-83b4bdd0b8d8"
      },
      "execution_count": null,
      "outputs": [
        {
          "output_type": "execute_result",
          "data": {
            "text/plain": [
              "'春季，四季之首。'"
            ],
            "application/vnd.google.colaboratory.intrinsic+json": {
              "type": "string"
            }
          },
          "metadata": {},
          "execution_count": 141
        }
      ]
    },
    {
      "cell_type": "code",
      "source": [
        "gradio.Interface(lookup, \"text\", \"text\", title=\"國語辭典\").launch(share=True)"
      ],
      "metadata": {
        "colab": {
          "base_uri": "https://localhost:8080/",
          "height": 666
        },
        "id": "bE_iCeyUrxtY",
        "outputId": "04a18935-c8f3-4bd3-e068-0237b1e40a7d"
      },
      "execution_count": null,
      "outputs": [
        {
          "output_type": "stream",
          "name": "stdout",
          "text": [
            "Colab notebook detected. To show errors in colab notebook, set `debug=True` in `launch()`\n",
            "Running on public URL: https://51740.gradio.app\n",
            "\n",
            "This share link expires in 72 hours. For free permanent hosting, check out Spaces (https://huggingface.co/spaces)\n"
          ]
        },
        {
          "output_type": "display_data",
          "data": {
            "text/plain": [
              "<IPython.core.display.HTML object>"
            ],
            "text/html": [
              "<div><iframe src=\"https://51740.gradio.app\" width=\"900\" height=\"500\" allow=\"autoplay; camera; microphone;\" frameborder=\"0\" allowfullscreen></iframe></div>"
            ]
          },
          "metadata": {}
        },
        {
          "output_type": "execute_result",
          "data": {
            "text/plain": [
              "(<gradio.routes.App at 0x7f694ad3e9d0>,\n",
              " 'http://127.0.0.1:7867/',\n",
              " 'https://51740.gradio.app')"
            ]
          },
          "metadata": {},
          "execution_count": 142
        }
      ]
    },
    {
      "cell_type": "markdown",
      "source": [
        "## 作業：寫一個漢英字典\n",
        "\n",
        "api網址：https://www.moedict.tw/a/%E8%90%8C.json"
      ],
      "metadata": {
        "id": "lDHp4IeswOOW"
      }
    },
    {
      "cell_type": "code",
      "source": [
        "url = \"https://www.moedict.tw/a/\""
      ],
      "metadata": {
        "id": "RTvjQUOzwWkc"
      },
      "execution_count": null,
      "outputs": []
    },
    {
      "cell_type": "code",
      "source": [
        "q = \"教室\""
      ],
      "metadata": {
        "id": "DelJ0qTawaQa"
      },
      "execution_count": null,
      "outputs": []
    },
    {
      "cell_type": "code",
      "source": [
        "data = requests.get(url+q+\".json\").json()"
      ],
      "metadata": {
        "id": "Rq7VQtQKwdPu"
      },
      "execution_count": null,
      "outputs": []
    },
    {
      "cell_type": "code",
      "source": [
        "data"
      ],
      "metadata": {
        "colab": {
          "base_uri": "https://localhost:8080/"
        },
        "id": "5JLz8p6awkLJ",
        "outputId": "6b90dee6-20dc-4c42-b705-758ca9733057"
      },
      "execution_count": null,
      "outputs": [
        {
          "output_type": "execute_result",
          "data": {
            "text/plain": [
              "{'Deutsch': 'Klassenzimmer  (S)',\n",
              " 'English': 'classroom',\n",
              " 'francais': 'salle de classe',\n",
              " 'h': [{'=': '322500022',\n",
              "   'b': 'ㄐㄧㄠˋ\\u3000ㄕˋ',\n",
              "   'd': [{'e': ['`如~：「`實驗~`教室~」、「`音樂~`教室~」。'],\n",
              "     'f': '`學校~`裡~`進行~`教學~`活動~`的~`房間~。',\n",
              "     's': '`課堂~'}],\n",
              "   'p': 'jiào shì'}],\n",
              " 't': '`教~`室~',\n",
              " 'translation': {'Deutsch': ['Klassenzimmer  (S)'],\n",
              "  'English': ['classroom', 'CL:`間~|间[jian1]'],\n",
              "  'francais': ['salle de classe']}}"
            ]
          },
          "metadata": {},
          "execution_count": 146
        }
      ]
    },
    {
      "cell_type": "markdown",
      "source": [
        "## 分析台北市YouBike站點"
      ],
      "metadata": {
        "id": "twX8HElwy8HT"
      }
    },
    {
      "cell_type": "code",
      "source": [
        "url = \"https://tcgbusfs.blob.core.windows.net/dotapp/youbike/v2/youbike_immediate.json\""
      ],
      "metadata": {
        "id": "agAv5UwLwk82"
      },
      "execution_count": null,
      "outputs": []
    },
    {
      "cell_type": "code",
      "source": [
        "data = requests.get(url).json()"
      ],
      "metadata": {
        "id": "NyZloOUzzApU"
      },
      "execution_count": null,
      "outputs": []
    },
    {
      "cell_type": "code",
      "source": [
        "type(data)"
      ],
      "metadata": {
        "colab": {
          "base_uri": "https://localhost:8080/"
        },
        "id": "ARwEZazezEbc",
        "outputId": "bcdea232-4ad8-4062-908e-f05050d99549"
      },
      "execution_count": null,
      "outputs": [
        {
          "output_type": "execute_result",
          "data": {
            "text/plain": [
              "list"
            ]
          },
          "metadata": {},
          "execution_count": 149
        }
      ]
    },
    {
      "cell_type": "code",
      "source": [
        "data[0]"
      ],
      "metadata": {
        "colab": {
          "base_uri": "https://localhost:8080/"
        },
        "id": "GW88-7uUzGpk",
        "outputId": "891c7780-05dc-4d31-849d-ddd8d2185a3e"
      },
      "execution_count": null,
      "outputs": [
        {
          "output_type": "execute_result",
          "data": {
            "text/plain": [
              "{'act': '1',\n",
              " 'ar': '復興南路二段235號前',\n",
              " 'aren': 'No.235， Sec. 2， Fuxing S. Rd.',\n",
              " 'bemp': 29,\n",
              " 'infoDate': '2022-07-09',\n",
              " 'infoTime': '2022-07-09 15:10:10',\n",
              " 'lat': 25.02605,\n",
              " 'lng': 121.5436,\n",
              " 'mday': '2022-07-09 15:10:10',\n",
              " 'sarea': '大安區',\n",
              " 'sareaen': 'Daan Dist.',\n",
              " 'sbi': 0,\n",
              " 'sna': 'YouBike2.0_捷運科技大樓站',\n",
              " 'snaen': 'YouBike2.0_MRT Technology Bldg. Sta.',\n",
              " 'sno': '500101001',\n",
              " 'srcUpdateTime': '2022-07-09 15:10:21',\n",
              " 'tot': 29,\n",
              " 'updateTime': '2022-07-09 15:10:51'}"
            ]
          },
          "metadata": {},
          "execution_count": 150
        }
      ]
    },
    {
      "cell_type": "markdown",
      "source": [
        "# BeautifulSoup使用簡介"
      ],
      "metadata": {
        "id": "QsqN8HlS0g9f"
      }
    },
    {
      "cell_type": "markdown",
      "source": [
        "### 範例一"
      ],
      "metadata": {
        "id": "4MoKbQ6u3f1j"
      }
    },
    {
      "cell_type": "code",
      "source": [
        "page = \"\"\"<!DOCTYPE html>\n",
        "<html>\n",
        "<head>\n",
        "    <title>HTML範例</title>\n",
        "</head>\n",
        "<body>\n",
        "\n",
        "<h1>哈囉！HTML！</h1>\n",
        "\n",
        "<img src=\"ninja.jpg\" />\n",
        "\n",
        "</body>\n",
        "</html>\"\"\""
      ],
      "metadata": {
        "id": "XClQISAWzKyx"
      },
      "execution_count": null,
      "outputs": []
    },
    {
      "cell_type": "code",
      "source": [
        "from bs4 import BeautifulSoup"
      ],
      "metadata": {
        "id": "lv3Fsbg51BEo"
      },
      "execution_count": null,
      "outputs": []
    },
    {
      "cell_type": "code",
      "source": [
        "soup = BeautifulSoup(page)"
      ],
      "metadata": {
        "id": "8iil8sLZ1nek"
      },
      "execution_count": null,
      "outputs": []
    },
    {
      "cell_type": "code",
      "source": [
        "soup.title"
      ],
      "metadata": {
        "colab": {
          "base_uri": "https://localhost:8080/"
        },
        "id": "wJwVul6z1xPk",
        "outputId": "40ba38de-8342-4cdd-8946-d21e94079252"
      },
      "execution_count": null,
      "outputs": [
        {
          "output_type": "execute_result",
          "data": {
            "text/plain": [
              "<title>HTML範例</title>"
            ]
          },
          "metadata": {},
          "execution_count": 155
        }
      ]
    },
    {
      "cell_type": "code",
      "source": [
        "soup.title.text"
      ],
      "metadata": {
        "colab": {
          "base_uri": "https://localhost:8080/",
          "height": 36
        },
        "id": "5U5O5-4b13f_",
        "outputId": "03731ee3-e974-43da-9d0f-7992c0712a49"
      },
      "execution_count": null,
      "outputs": [
        {
          "output_type": "execute_result",
          "data": {
            "text/plain": [
              "'HTML範例'"
            ],
            "application/vnd.google.colaboratory.intrinsic+json": {
              "type": "string"
            }
          },
          "metadata": {},
          "execution_count": 156
        }
      ]
    },
    {
      "cell_type": "code",
      "source": [
        "soup.h1.text"
      ],
      "metadata": {
        "colab": {
          "base_uri": "https://localhost:8080/",
          "height": 36
        },
        "id": "0uZHD5z-17mt",
        "outputId": "4efd1f16-f780-4831-ccd8-4d86403b84db"
      },
      "execution_count": null,
      "outputs": [
        {
          "output_type": "execute_result",
          "data": {
            "text/plain": [
              "'哈囉！HTML！'"
            ],
            "application/vnd.google.colaboratory.intrinsic+json": {
              "type": "string"
            }
          },
          "metadata": {},
          "execution_count": 157
        }
      ]
    },
    {
      "cell_type": "markdown",
      "source": [
        "### 範例二"
      ],
      "metadata": {
        "id": "zT-6k9MD3irx"
      }
    },
    {
      "cell_type": "code",
      "source": [
        "page = \"\"\"<!DOCTYPE html>\n",
        "<html>\n",
        "<head>\n",
        "    <title>這是範例一</title>\n",
        "</head>\n",
        "<body>\n",
        "\n",
        "<h1>哈囉！HTML！</h1>\n",
        "\n",
        "<div class=\"class1\">\n",
        "    <p>這是第一個p標籤內容！</p>\n",
        "    <p>這是第二個p標籤內容！</p>\n",
        "</div>\n",
        "\n",
        "<div class=\"class2\">\n",
        "    <p>這是第三個p標籤內容！</p>\n",
        "    <p>這是第四個p標籤內容！</p>\n",
        "</div>\n",
        "</body>\n",
        "</html>\"\"\""
      ],
      "metadata": {
        "id": "k6j7lRUj2CqF"
      },
      "execution_count": null,
      "outputs": []
    },
    {
      "cell_type": "code",
      "source": [
        "soup = BeautifulSoup(page)"
      ],
      "metadata": {
        "id": "Ms_5yBnH3pYB"
      },
      "execution_count": null,
      "outputs": []
    },
    {
      "cell_type": "code",
      "source": [
        "soup.select(\"div.class1\")"
      ],
      "metadata": {
        "colab": {
          "base_uri": "https://localhost:8080/"
        },
        "id": "wchjb6Nz352w",
        "outputId": "c872aecb-6cec-4773-b340-b698cdd657dc"
      },
      "execution_count": null,
      "outputs": [
        {
          "output_type": "execute_result",
          "data": {
            "text/plain": [
              "[<div class=\"class1\">\n",
              " <p>這是第一個p標籤內容！</p>\n",
              " <p>這是第二個p標籤內容！</p>\n",
              " </div>]"
            ]
          },
          "metadata": {},
          "execution_count": 177
        }
      ]
    },
    {
      "cell_type": "markdown",
      "source": [
        "## 嘗試抓一下 momo 的冰箱的資料\n",
        "\n"
      ],
      "metadata": {
        "id": "GpFkNHwR5xV_"
      }
    },
    {
      "cell_type": "code",
      "source": [
        "url = \"https://www.momoshop.com.tw/category/LgrpCategory.jsp?l_code=2919100000&mdiv=1099600000-bt_0_996_11-&ctype=B\""
      ],
      "metadata": {
        "id": "KdvlQouJ4AAS"
      },
      "execution_count": null,
      "outputs": []
    },
    {
      "cell_type": "code",
      "source": [
        "headers = {\"user-agent\":\"Mozilla/5.0 (Windows NT 6.1; WOW64) AppleWebKit/537.36 (KHTML, like Gecko) Chrome/47.0.2526.111 Safari/537.36\"}"
      ],
      "metadata": {
        "id": "5LbBFO2A6HT0"
      },
      "execution_count": null,
      "outputs": []
    },
    {
      "cell_type": "code",
      "source": [
        "r = requests.get(url, headers=headers)"
      ],
      "metadata": {
        "id": "I6RUzfTQ57Bg"
      },
      "execution_count": null,
      "outputs": []
    },
    {
      "cell_type": "code",
      "source": [
        "soup = BeautifulSoup(r.text)"
      ],
      "metadata": {
        "id": "BFJ15fQe5-Nb"
      },
      "execution_count": null,
      "outputs": []
    },
    {
      "cell_type": "code",
      "source": [
        "products = soup.select(\".btclass.bt770class li a\")"
      ],
      "metadata": {
        "id": "ZnP00e-t6olz"
      },
      "execution_count": null,
      "outputs": []
    },
    {
      "cell_type": "code",
      "source": [
        "products[0]"
      ],
      "metadata": {
        "colab": {
          "base_uri": "https://localhost:8080/"
        },
        "id": "4NHRPwQF7H5x",
        "outputId": "462e996d-d3c8-438d-a5e9-3f9e85ae2dca"
      },
      "execution_count": null,
      "outputs": [
        {
          "output_type": "execute_result",
          "data": {
            "text/plain": [
              "<a href=\"https://www.momoshop.com.tw/edm/cmmedm.jsp?lpn=O0Y2mh4ttZH&amp;mdiv=2919100000-bt_2_015_02-bt_2_015_02_e1&amp;ctype=B\" id=\"bt_2_015_02_e1\"><img id=\"bt_2_015_02_e2\" lazy=\"2\" org=\"//img2.momoshop.com.tw/ecm/img/online/29/191/00/000/bt_2_015_02/bt_2_015_02_e2.gif?t=1656329330763\" src=\"/ecm/img/cmm/blank.png\"/></a>"
            ]
          },
          "metadata": {},
          "execution_count": 188
        }
      ]
    },
    {
      "cell_type": "code",
      "source": [
        "products[1]"
      ],
      "metadata": {
        "colab": {
          "base_uri": "https://localhost:8080/"
        },
        "id": "bY2ioc5O74jb",
        "outputId": "29f39520-2351-4311-e798-61538dd015d4"
      },
      "execution_count": null,
      "outputs": [
        {
          "output_type": "execute_result",
          "data": {
            "text/plain": [
              "<a href=\"https://www.momoshop.com.tw/edm/cmmedm.jsp?npn=1vEHimBzrGRK&amp;n=1&amp;mdiv=2919100000-bt_2_090_01-bt_2_090_01_e1&amp;ctype=B\" id=\"bt_2_090_01_e1\" title=\"momo\"> <img alt=\"momo\" height=\"80\" id=\"bt_2_090_01_e2\" lazy=\"2\" org=\"//img3.momoshop.com.tw/ecm/img/online/29/191/00/000/bt_2_090_01/bt_2_090_01_e2.jpg?t=1656579423664\" src=\"/ecm/img/cmm/blank.png\" title=\"momo\" width=\"80\"/><span class=\"prdtxt\" id=\"bt_2_090_01_e4\">歌林登記送好禮</span></a>"
            ]
          },
          "metadata": {},
          "execution_count": 189
        }
      ]
    },
    {
      "cell_type": "code",
      "source": [
        "for x in products:\n",
        "  try:\n",
        "    print(x.select('.prdName')[0].text, \"==>\", x.select('.prdPrice')[0].text)\n",
        "  except Exception as e:\n",
        "    print(e.args)"
      ],
      "metadata": {
        "colab": {
          "base_uri": "https://localhost:8080/"
        },
        "id": "G-Ro6Pfo78o3",
        "outputId": "6a3bf1f6-2fa9-4715-a655-671e16032910"
      },
      "execution_count": null,
      "outputs": [
        {
          "output_type": "stream",
          "name": "stdout",
          "text": [
            "('list index out of range',)\n",
            "('list index out of range',)\n",
            "('list index out of range',)\n",
            "('list index out of range',)\n",
            "('list index out of range',)\n",
            "('list index out of range',)\n",
            "('list index out of range',)\n",
            "('list index out of range',)\n",
            "('list index out of range',)\n",
            "('list index out of range',)\n",
            "【Whirlpool 惠而浦】224公升一級能效變頻上下門冰箱-極光銀(WTI2650A) ==> $13,900\n",
            "【SANLUX 台灣三洋】128公升一級能效雙門定頻冰箱(SR-C125B1) ==> $8,990\n",
            "【TATUNG 大同】158L繽紛鮮獨享單門冰箱-絲絨銀(TR-A2160SLHR) ==> $6,999\n",
            "【Panasonic 國際牌】610公升 IOT智慧家電玻璃四門變頻冰箱 NR-D611XGS-N翡翠金 ==> $42,210\n",
            "【TOSHIBA 東芝】409L一級能效變頻鏡面電冰箱GR-AG461TDZ(ZW) ==> $20,900\n",
            "【SAMSUNG 三星】258L一級能效變頻右開雙門冰箱(RT25M4015S8/TW) ==> $13,900\n",
            "【TOSHIBA 東芝】330公升變頻雙門冰箱GR-A370TBZ(N) ==> $17,900\n",
            "【TOSHIBA 東芝】509L無邊框玻璃六門變頻電冰箱GR-ZP510TFW(UW) ==> $62,910\n",
            "【HERAN 禾聯】45L二級能效定頻單門冰箱(HRE-0513) ==> $5,090\n",
            "【HERAN 禾聯】344L一級能效雙效抑菌脫臭變頻雙門電冰箱-木紋棕(HRE-B3581V-B)5875133 ==> $18,900\n",
            "【HERAN 禾聯】67L二級能效定頻單門冰箱(HRE-0715) ==> $5,590\n",
            "【HERAN 禾聯】92L 二級能效節能定頻單門冰箱(HRE-1015) ==> $6,090\n",
            "【Frigidaire富及第】338L一級能效定頻雙門冰箱(FFET1222QW / FFET1226QM福利品) ==> $14,900\n",
            "【Frigidaire 富及第】90L 1級省電雙門小冰箱 福利品(FRT-0904M/FRT-0906M/FRT-0908M) ==> $6,999\n",
            "【富及第】338L1級省電冰箱-白福利品+20L美型微波爐 ==> $16,900\n",
            "【富及第】90L1級省電冰箱-銀福利品+4.5KG自動迷你洗衣機 ==> $11,900\n",
            "1+1涼爽福利組【TAIGA 大河】直立40L冷凍櫃(福利品)+空氣循環扇 ==> $6,460\n",
            "【TECO 東元】福利品★125公升雙門冰箱(R1301N) ==> $8,820\n",
            "【TECO 東元】福利品★315公升 一級能效智能變頻右開四門冰箱(R3150DTXH) ==> $21,949\n",
            "【TECO 東元】福利品★480公升 一級能效變頻右開雙門冰箱(R4892XHK) ==> 熱銷一空\n",
            "【TECO 東元】福利品★600公升 一級能效變頻右開三門冰箱(R6171VXHK) ==> $27,963\n",
            "【TECO 東元】福利品★101公升雙門冰箱 白色(R1011W) ==> $6,405\n",
            "【SANLUX 台灣三洋】128公升一級能效定頻右開雙門冰箱福利品－珍珠白(SR-C128B1) ==> $9,989\n",
            "【SANLUX 台灣三洋】168L 雙門定頻電冰箱 福利品(SR-C168B) ==> $10,669\n",
            "(福利品)【Haier 海爾】266L直立單門無霜冷凍櫃HUF-300銀灰色(無霜冷凍櫃) ==> $12,900\n",
            "【SANLUX 台灣三洋】128L雙門電冰箱福利品(SR-C125B1) ==> 熱銷一空\n",
            "1+1涼爽福利組【TAIGA 大河】直立40L冷凍櫃(福利品)+空氣循環扇 ==> $6,460\n",
            "1+1特惠組【TECO 東元】101L一級能效冰箱(R1011S)+95L冷凍櫃(RL95SW) ==> $11,360\n",
            "1+1特惠組【聲寶】460L二級能效雙門冰箱(SR-M460D★退稅2000元)+Alpha S1+無線吸塵器(EC-H15UND) ==> $20,705\n",
            "1+1特惠組【聲寶】530公升二級能效三門冰箱(SR-M530DV★退稅2000元)+Alpha S1+無線吸塵器(EC-H15UND) ==> $26,086\n",
            "1+1特惠組【聲寶】205公升一級變頻雙門冰箱(SR-M20D★退稅1200元)+Alpha S1+無線吸塵器(EC-H15UND) ==> $15,769\n",
            "1+1特惠組【聲寶】340公升一級能效雙門冰箱(SR-M34D★退稅1200元)+Alpha S1+無線吸塵器(EC-H15UND) ==> $18,849\n",
            "【ZANWA 晶華】8L冷暖兩用定頻右開單門電子式行動冰箱/冷藏箱/保溫箱(CLT-08B綠色) ==> $2,108\n",
            "【Mobicool】電子式行動迷你冰箱MBF20PS 黑色款(家用/車用) ==> $2,831\n",
            "【SAMPO 聲寶】99公升一級能效歐風美型系列定頻右開單門冰箱(SR-C10-P) ==> $4,749\n",
            "【SONGEN 松井】5L冷暖兩用定頻左開單門式電子行動冰箱/冷藏箱/保溫箱/小冰箱(CLT-05R 粉紅色) ==> $1,786\n",
            "【SONGEN 松井】5L冷暖兩用定頻左開單門式電子行動冰箱/冷藏箱/保溫箱/小冰箱(CLT-05Y 海洋藍) ==> $1,786\n",
            "【BOSCH博世】324L二級效能自選門向單門上冷藏下冷凍彩色冰箱(KGN36IJ3AD+KVN36IT0 ==> $65,610\n",
            "【BOSCH博世】324L二級效能自選門向單門上冷藏下冷凍彩色冰箱(KGN36IJ3AD+KVN36IE0 ==> $65,610\n",
            "【BOSCH 博世】324L二級效能自選門向單門上冷藏下冷凍彩色冰箱(KGN36IJ3AD 棉花糖粉) ==> $65,610\n",
            "【BOSCH 博世】324L二級效能自選門向單門上冷藏下冷凍彩色冰箱(KGN36IJ3AD+KVN36IH ==> $65,610\n",
            "【BOSCH 博世】324L二級效能自選門向單門上冷藏下冷凍彩色冰箱(KGN36IJ3AD+KVN36IV ==> $65,610\n",
            "【TECO 東元】101公升 一級能效定頻右開雙門冰箱(R1011S) ==> $6,290\n",
            "【Kolin 歌林】90公升一級能效定頻右開雙門小冰箱(KR-SE20918 雪亮白) ==> $5,888\n",
            "【SAMPO 聲寶】47公升二級能效獨享系列定頻右開單門小冰箱(SR-B05) ==> $5,020\n",
            "【HERAN 禾聯】45L二級能效定頻單門冰箱(HRE-0513) ==> $5,090\n",
            "【WINIA韓國煒伲雅】120L韓系復古定頻單門小冰箱(兩色可選) ==> $13,900\n",
            "【SAMSUNG 三星】258L一級能效變頻右開雙門冰箱(RT25M4015S8/TW) ==> $13,900\n",
            "【TECO 東元】231公升 一級能效變頻右開雙門冰箱(R2311XHS) ==> $14,490\n",
            "【Whirlpool 惠而浦】250公升一級能效變頻上下門冰箱-極光銀(WTI2920A) ==> $14,900\n",
            "【LG 樂金】208公升一級能效變頻右開上下門冰箱(GN-L297SV) ==> $13,490\n",
            "【LG 樂金】315公升一級能效變頻右開上下門冰箱(GN-L397SV) ==> $19,465\n",
            "【Frigidaire富及第】338L一級能效定頻雙門冰箱(FFET1222QW / FFET1226QM福利品) ==> $14,900\n",
            "【Whirlpool 惠而浦】590L智能溫度控制變頻對開門冰箱(WHX620SS) ==> $39,900\n",
            "【Kolin 歌林】125公升二級能效精緻定頻右開雙門冰箱KR-213S03-銀色(送基本安裝/舊機回收) ==> $9,393\n",
            "【TECO 東元】101公升 一級能效定頻右開雙門冰箱(R1011S) ==> $6,290\n",
            "【LG 樂金】208公升一級能效變頻右開上下門冰箱(GN-L297SV) ==> $13,490\n",
            "【SANLUX 台灣三洋】128公升一級能效雙門定頻冰箱(SR-C125B1) ==> $8,990\n",
            "【TATUNG 大同】250L變頻雙門冰箱(TR-B1255VHR) ==> $13,618\n",
            "【HITACHI 日立】594L變頻四門對開冰箱(RG616) ==> $35,615\n",
            "('list index out of range',)\n",
            "('list index out of range',)\n",
            "('list index out of range',)\n",
            " ==> $\n",
            "【SAMPO 聲寶】460公升二級能效變頻右開雙門冰箱(SR-M460D) ==> $17,777\n",
            "【SAMPO 聲寶】★MOMO獨家★530公升 時尚變頻右開三門冰箱(SR-M530DV) ==> $22,677\n",
            "【SAMPO 聲寶】★MOMO獨家★205公升一級變頻右開雙門冰箱(SR-M20D) ==> $13,900\n",
            "【SAMPO 聲寶】★MOMO獨家★340公升一級變頻右開雙門冰箱(SR-M34D) ==> $17,900\n",
            " ==> $\n",
            "【Frigidaire 富及第】90L 1級省電雙門小冰箱 福利品(FRT-0904M/FRT-0906M/FRT-0908M) ==> $6,999\n",
            "【Frigidaire 富及第】90L 1級省電雙門小冰箱 銀 福利品+4.5KG全自動迷你洗衣機(FRT-0908M+FAW-0451S) ==> $11,900\n",
            "【Frigidaire富及第】338L一級能效定頻雙門冰箱(FFET1222QW / FFET1226QM福利品) ==> $14,900\n",
            "【Frigidaire 富及第】338L 1級省電 新美式雙門冰箱 質感銀 福利品+20L 美型微波爐(FFET1226QM+FKM-2024MB) ==> $16,900\n",
            " ==> $\n",
            " ==> $\n",
            " ==> $\n",
            " ==> $\n",
            " ==> $\n",
            " ==> $\n",
            " ==> $\n",
            " ==> $\n",
            " ==> $\n",
            " ==> $\n",
            " ==> $\n",
            " ==> $\n",
            " ==> $\n",
            " ==> $\n",
            " ==> $\n",
            " ==> $\n",
            " ==> $\n",
            " ==> $\n",
            " ==> $\n",
            " ==> $\n",
            " ==> $\n",
            " ==> $\n",
            " ==> $\n",
            " ==> $\n",
            " ==> $\n",
            " ==> $\n",
            " ==> $\n",
            " ==> $\n",
            " ==> $\n",
            " ==> $\n",
            "【TECO 東元】101公升 一級能效定頻右開雙門冰箱(R1011S) ==> $6,290\n",
            "【TECO 東元】231公升 一級能效變頻右開雙門冰箱(R2311XHS) ==> $14,490\n",
            "【TECO 東元】101公升 一級能效定頻右開雙門冰箱(R1011S) ==> $6,290\n",
            "【TECO 東元】315公升 一級能效智能變頻右開四門冰箱(R3150DTXH) ==> $22,900\n",
            "【TECO 東元】86公升 一級能效定頻右開雙門復古式冰箱(R1086B) ==> $9,900\n",
            "日立冰箱 ==> 熱銷一空\n",
            "【HITACHI 日立】407L一級能效日製變頻右開五門冰箱(RS42NJ-SN) ==> $43,148\n",
            "【HITACHI 日立】417L 一級能效變頻雙門右開冰箱(RVX429-BSL) ==> $21,988\n",
            "【HITACHI 日立】313L一級能效變頻右開雙門冰箱(RBX330-XGR) ==> $23,828\n",
            "【HITACHI 日立】394L一級能效變頻三門右開冰箱(RV41C-CNX) ==> $31,188\n",
            " ==> $\n",
            " ==> $\n",
            " ==> $\n",
            " ==> $\n",
            " ==> $\n",
            " ==> $\n",
            " ==> $\n",
            " ==> $\n",
            " ==> $\n",
            " ==> $\n",
            " ==> $\n",
            " ==> $\n",
            " ==> $\n",
            " ==> $\n",
            " ==> $\n",
            " ==> $\n",
            " ==> $\n",
            " ==> $\n",
            " ==> $\n",
            " ==> $\n",
            " ==> $\n",
            " ==> $\n",
            " ==> $\n",
            " ==> $\n",
            " ==> $\n",
            " ==> $\n",
            " ==> $\n",
            " ==> $\n",
            " ==> $\n",
            " ==> $\n",
            "LG 樂金 ==> $\n",
            "【LG 樂金】393公升二級能效鏡面變頻右開上下門冰箱(GN-BL430GB) ==> $19,888\n",
            "761公升WiFi敲敲看門中門變頻對開冰箱(GR-QPL88SV) ==> $74,712\n",
            "2022新機上市【LG 樂金】335公升一級能效變頻右開上下門冰箱(GN-L332BS) ==> $23,310\n",
            "【LG 樂金】525公升WiFi 變頻右開上下門冰箱(GN-DL567SV) ==> $22,941\n",
            "Whirlpool 惠而浦 ==> $\n",
            "533L無框強化玻璃層板定頻上下門冰箱(8WRT19FZDW) ==> $27,368\n",
            "590L智能溫度控制變頻對開門冰箱(WHX620SS) ==> $39,900\n",
            "570L一級能效變頻右開上下門冰箱(WRT571S) ==> $26,274\n",
            "【Whirlpool 惠而浦】430公升一級能效變頻上下門冰箱-極光銀(WTI5000A) ==> $22,900\n",
            " ==> $\n",
            " ==> $\n",
            " ==> $\n",
            " ==> $\n",
            " ==> $\n",
            " ==> $\n",
            " ==> $\n",
            " ==> $\n",
            " ==> $\n",
            " ==> $\n",
            " ==> $\n",
            " ==> $\n",
            " ==> $\n",
            " ==> $\n",
            " ==> $\n",
            " ==> $\n",
            " ==> $\n",
            " ==> $\n",
            " ==> $\n",
            " ==> $\n",
            " ==> $\n",
            " ==> $\n",
            " ==> $\n",
            " ==> $\n",
            " ==> $\n",
            " ==> $\n",
            " ==> $\n",
            " ==> $\n",
            " ==> $\n",
            " ==> $\n",
            " ==> $\n",
            "【Kolin歌林】485公升一級能效變頻右開雙門冰箱KR-248V03-燦銀灰(送基本運送安裝+舊機回收) ==> $22,726\n",
            "【Kolin 歌林】125公升二級能效精緻定頻右開雙門冰箱KR-213S03-銀色(送基本安裝/舊機回收) ==> $9,393\n",
            "【Kolin 歌林】579公升一級能效精緻變頻右開雙門冰箱KR-258V03燦銀灰(基本運送/安裝+舊機回收) ==> $25,555\n",
            "【Kolin 歌林】90公升一級能效定頻右開雙門小冰箱(KR-SE20918 雪亮白) ==> $5,888\n",
            " ==> $\n",
            "【HERAN 禾聯】485L一級能效銀離子抑菌變頻雙門冰箱-穗香金(HRE-B4823V) ==> $24,590\n",
            "【HERAN 禾聯】100L新一級能效定頻雙門電冰箱(HRE-B1013) ==> $7,690\n",
            "【HERAN 禾聯】579L ㄧ級變頻雙門電冰箱(HRE-B5822V-G) ==> 熱銷一空\n",
            "【HERAN 禾聯】50L 電子冷藏箱(HBO-0571 BL) ==> $5,390\n",
            " ==> $\n",
            " ==> $\n",
            " ==> $\n",
            " ==> $\n",
            " ==> $\n",
            " ==> $\n",
            " ==> $\n",
            " ==> $\n",
            " ==> $\n",
            " ==> $\n",
            " ==> $\n",
            " ==> $\n",
            " ==> $\n",
            " ==> $\n",
            " ==> $\n",
            " ==> $\n",
            " ==> $\n",
            " ==> $\n",
            " ==> $\n",
            " ==> $\n",
            " ==> $\n",
            " ==> $\n",
            " ==> $\n",
            " ==> $\n",
            " ==> $\n",
            " ==> $\n",
            " ==> $\n",
            " ==> $\n",
            " ==> $\n",
            " ==> $\n",
            "【Panasonic 國際牌】422公升一級能效變頻雙門冰箱-星耀金(NR-B420TV-S1) ==> $19,900\n",
            "【Panasonic 國際牌】167公升一級能效雙門變頻冰箱-星耀金(NR-B170TV-S1) ==> $12,510\n",
            "【Panasonic 國際牌】台灣製580L雙門玻璃冰箱(NR-B582TG-T) ==> $30,141\n",
            "【Panasonic 國際牌】268公升一級能效雙門變頻冰箱-星耀金(NR-B270TV-S1) ==> $16,110\n",
            "【Panasonic 國際牌】366公升一級能效雙門變頻冰箱-星耀金(NR-B370TV-S1) ==> $18,810\n",
            "【SANLUX 台灣三洋】480公升一級能效雙門定頻冰箱(SR-C480B1B) ==> $19,500\n",
            "【SANLUX 台灣三洋】206公升二級能效雙門冰箱(SR-C208B) ==> $12,017\n",
            "【SANLUX 台灣三洋】◆560公升一級能效直流變頻采晶鏡面四門冰箱(SR-C560DV1) ==> $31,425\n",
            "【SANLUX 台灣三洋】128公升一級能效雙門定頻冰箱(SR-C125B1) ==> $8,990\n",
            "【SANLUX 台灣三洋】87公升一級能效雙門冰箱(SR-C90B1) ==> $5,888\n",
            " ==> $\n",
            " ==> $\n",
            " ==> $\n",
            " ==> $\n",
            " ==> $\n",
            " ==> $\n",
            " ==> $\n",
            " ==> $\n",
            " ==> $\n",
            " ==> $\n",
            " ==> $\n",
            " ==> $\n",
            " ==> $\n",
            " ==> $\n",
            " ==> $\n",
            " ==> $\n",
            " ==> $\n",
            " ==> $\n",
            " ==> $\n",
            " ==> $\n",
            " ==> $\n",
            " ==> $\n",
            " ==> $\n",
            " ==> $\n",
            " ==> $\n",
            " ==> $\n",
            " ==> $\n",
            " ==> $\n",
            " ==> $\n",
            " ==> $\n"
          ]
        }
      ]
    },
    {
      "cell_type": "code",
      "source": [
        ""
      ],
      "metadata": {
        "id": "1pZjdz3m9GAs"
      },
      "execution_count": null,
      "outputs": []
    }
  ]
}