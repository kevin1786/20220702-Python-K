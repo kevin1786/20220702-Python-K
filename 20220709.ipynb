{
  "nbformat": 4,
  "nbformat_minor": 0,
  "metadata": {
    "colab": {
      "name": "20220709.ipynb",
      "provenance": [],
      "include_colab_link": true
    },
    "kernelspec": {
      "name": "python3",
      "display_name": "Python 3"
    },
    "language_info": {
      "name": "python"
    }
  },
  "cells": [
    {
      "cell_type": "markdown",
      "metadata": {
        "id": "view-in-github",
        "colab_type": "text"
      },
      "source": [
        "<a href=\"https://colab.research.google.com/github/kevin1786/20220702-Python-K/blob/main/20220709.ipynb\" target=\"_parent\"><img src=\"https://colab.research.google.com/assets/colab-badge.svg\" alt=\"Open In Colab\"/></a>"
      ]
    },
    {
      "cell_type": "markdown",
      "source": [
        "# 20220709"
      ],
      "metadata": {
        "id": "ygilIRMPgKdf"
      }
    },
    {
      "cell_type": "markdown",
      "source": [
        "## 初學者需要知道的概念\n",
        "\n",
        "* 資料型態\n",
        "  * int ==> 整數 (0, 1, 2, ...)\n",
        "  * float ==> 浮點數 (3.14, 1.1, ...)\n",
        "  * bool ==> 布林變數 (True, False)\n",
        "  * str ==> 字串 (\"dog\", 'cat',...)\n",
        "* 容器型別\n",
        "  * list ==> 串列 [ ]\n",
        "  * tuple ==> 元組 ( )\n",
        "  * dict ==> 字典 { }\n",
        "  * set ==> 集合 { }\n",
        "* 基礎語法\n",
        "  * loops ==> 迴圈\n",
        "  * functions ==> 函式\n",
        "  * if statements ==> 條件式\n",
        "  * exception handling ==> 例外處理"
      ],
      "metadata": {
        "id": "FDg8snhVgS4p"
      }
    },
    {
      "cell_type": "markdown",
      "source": [
        "# loops: for, while"
      ],
      "metadata": {
        "id": "prpglV28mWQM"
      }
    },
    {
      "cell_type": "markdown",
      "source": [
        "## for loops\n",
        "\n",
        "### 基本語法\n",
        "\n",
        "```python\n",
        "for 變數 in 資料結構:\n",
        "  程式區塊 (裡面可以使用上面的變數)\n",
        "```"
      ],
      "metadata": {
        "id": "0qj5D5uomdJY"
      }
    },
    {
      "cell_type": "code",
      "execution_count": null,
      "metadata": {
        "colab": {
          "base_uri": "https://localhost:8080/"
        },
        "id": "GdOptU3rfv1a",
        "outputId": "330927b2-c758-46f9-948c-263be7478e65"
      },
      "outputs": [
        {
          "output_type": "stream",
          "name": "stdout",
          "text": [
            "程式區塊開始\n",
            "0\n",
            "程式區塊結束\n",
            "程式區塊開始\n",
            "1\n",
            "程式區塊結束\n",
            "程式區塊開始\n",
            "2\n",
            "程式區塊結束\n"
          ]
        }
      ],
      "source": [
        "for i in range(3):\n",
        "  print(\"程式區塊開始\")\n",
        "  print(i)\n",
        "  print(\"程式區塊結束\")"
      ]
    },
    {
      "cell_type": "code",
      "source": [
        "for i in range(3):\n",
        "  print(\"程式區塊開始\")\n",
        "  print(i)\n",
        "print(\"程式區塊結束\")"
      ],
      "metadata": {
        "colab": {
          "base_uri": "https://localhost:8080/"
        },
        "id": "etbaQLaFnyH7",
        "outputId": "617e3828-3cde-456b-efba-23a6391d8ee9"
      },
      "execution_count": null,
      "outputs": [
        {
          "output_type": "stream",
          "name": "stdout",
          "text": [
            "程式區塊開始\n",
            "0\n",
            "程式區塊開始\n",
            "1\n",
            "程式區塊開始\n",
            "2\n",
            "程式區塊結束\n"
          ]
        }
      ]
    },
    {
      "cell_type": "code",
      "source": [
        "for i in range(3):\n",
        "print(\"程式區塊開始\")\n",
        "print(i)\n",
        "print(\"程式區塊結束\")"
      ],
      "metadata": {
        "colab": {
          "base_uri": "https://localhost:8080/",
          "height": 133
        },
        "id": "OHQjOeTzn9SU",
        "outputId": "f3c74ee2-6f57-4cf8-da65-c07beea2ec4a"
      },
      "execution_count": null,
      "outputs": [
        {
          "output_type": "error",
          "ename": "IndentationError",
          "evalue": "ignored",
          "traceback": [
            "\u001b[0;36m  File \u001b[0;32m\"<ipython-input-3-9e4012335ee3>\"\u001b[0;36m, line \u001b[0;32m2\u001b[0m\n\u001b[0;31m    print(\"程式區塊開始\")\u001b[0m\n\u001b[0m        ^\u001b[0m\n\u001b[0;31mIndentationError\u001b[0m\u001b[0;31m:\u001b[0m expected an indented block\n"
          ]
        }
      ]
    },
    {
      "cell_type": "markdown",
      "source": [
        "## while loops\n",
        "\n",
        "### 基本語法\n",
        "\n",
        "```python\n",
        "while 條件式:\n",
        "  程式區塊\n",
        "```"
      ],
      "metadata": {
        "id": "OwC-2mrfoNvu"
      }
    },
    {
      "cell_type": "code",
      "source": [
        "x = 0\n",
        "while x < 10:\n",
        "  print(x)\n",
        "  x = x + 1"
      ],
      "metadata": {
        "id": "AElKrfogoaod"
      },
      "execution_count": null,
      "outputs": []
    },
    {
      "cell_type": "markdown",
      "source": [
        "## 寫一個九九乘法表 (可以使用巢狀迴圈)\n",
        "\n",
        "巢狀迴圈：nested loops\n",
        "\n",
        "可以用 for 迴圈或 while 迴圈做做看！"
      ],
      "metadata": {
        "id": "5PhME8expfLQ"
      }
    },
    {
      "cell_type": "markdown",
      "source": [
        "### 方法一"
      ],
      "metadata": {
        "id": "Wg4Iq7Lps9Uw"
      }
    },
    {
      "cell_type": "code",
      "source": [
        "for i in range(5):\n",
        "  print(i)"
      ],
      "metadata": {
        "colab": {
          "base_uri": "https://localhost:8080/"
        },
        "id": "AYb-pAW3pqAK",
        "outputId": "b74c014e-ad66-4ea4-cf53-d75f8d4eee53"
      },
      "execution_count": null,
      "outputs": [
        {
          "output_type": "stream",
          "name": "stdout",
          "text": [
            "0\n",
            "1\n",
            "2\n",
            "3\n",
            "4\n"
          ]
        }
      ]
    },
    {
      "cell_type": "code",
      "source": [
        "list(range(5))"
      ],
      "metadata": {
        "colab": {
          "base_uri": "https://localhost:8080/"
        },
        "id": "8c7Ve_lFpyHa",
        "outputId": "48d7bf61-ee1f-4e18-b630-bd21d6045d52"
      },
      "execution_count": null,
      "outputs": [
        {
          "output_type": "execute_result",
          "data": {
            "text/plain": [
              "[0, 1, 2, 3, 4]"
            ]
          },
          "metadata": {},
          "execution_count": 9
        }
      ]
    },
    {
      "cell_type": "code",
      "source": [
        "list(range(2, 10))"
      ],
      "metadata": {
        "colab": {
          "base_uri": "https://localhost:8080/"
        },
        "id": "GDDzJ3VFqJ02",
        "outputId": "09318f7f-bf2f-474e-98fe-aae9667d2f95"
      },
      "execution_count": null,
      "outputs": [
        {
          "output_type": "execute_result",
          "data": {
            "text/plain": [
              "[2, 3, 4, 5, 6, 7, 8, 9]"
            ]
          },
          "metadata": {},
          "execution_count": 10
        }
      ]
    },
    {
      "cell_type": "code",
      "source": [
        "for i in range(2, 10):\n",
        "  print(i)"
      ],
      "metadata": {
        "colab": {
          "base_uri": "https://localhost:8080/"
        },
        "id": "lM0wr2yQpuuj",
        "outputId": "97061dab-2759-4ad9-ab8c-72b45aead11d"
      },
      "execution_count": null,
      "outputs": [
        {
          "output_type": "stream",
          "name": "stdout",
          "text": [
            "2\n",
            "3\n",
            "4\n",
            "5\n",
            "6\n",
            "7\n",
            "8\n",
            "9\n"
          ]
        }
      ]
    },
    {
      "cell_type": "code",
      "source": [
        "# hint\n",
        "for i in range(2, 10):\n",
        "  for j in range(2, 10):\n",
        "    print(i, \"x\", j)"
      ],
      "metadata": {
        "id": "LVFxRyvWqWm0"
      },
      "execution_count": null,
      "outputs": []
    },
    {
      "cell_type": "code",
      "source": [
        "for i in range(2, 10):\n",
        "  for j in range(2, 10):\n",
        "    print(i, \"x\", j, \"=\", i*j)"
      ],
      "metadata": {
        "id": "x5gKx5ndsYFY"
      },
      "execution_count": null,
      "outputs": []
    },
    {
      "cell_type": "markdown",
      "source": [
        "### 方法二"
      ],
      "metadata": {
        "id": "gGc0ExvZtAEi"
      }
    },
    {
      "cell_type": "markdown",
      "source": [
        "我想要印出九九乘法表(像上面一樣)！\n",
        "\n",
        "請問底下的程式，哪裡錯了？"
      ],
      "metadata": {
        "id": "9Ow5NF9Ht6fJ"
      }
    },
    {
      "cell_type": "code",
      "source": [
        "i = 2\n",
        "j = 2\n",
        "while i < 10:\n",
        "  while j < 10:\n",
        "    print(i, \"x\", j, \"=\", i*j)\n",
        "    j = j + 1\n",
        "  i = i + 1"
      ],
      "metadata": {
        "colab": {
          "base_uri": "https://localhost:8080/"
        },
        "id": "VZUBsZ69tCkO",
        "outputId": "491201dc-2dea-4733-d6a8-24d82d80667e"
      },
      "execution_count": null,
      "outputs": [
        {
          "output_type": "stream",
          "name": "stdout",
          "text": [
            "2 x 2 = 4\n",
            "2 x 3 = 6\n",
            "2 x 4 = 8\n",
            "2 x 5 = 10\n",
            "2 x 6 = 12\n",
            "2 x 7 = 14\n",
            "2 x 8 = 16\n",
            "2 x 9 = 18\n"
          ]
        }
      ]
    },
    {
      "cell_type": "code",
      "source": [
        "i = 2\n",
        "while i < 10:\n",
        "  j = 2\n",
        "  while j < 10:\n",
        "    print(i, \"x\", j, \"=\", i*j)\n",
        "    j = j + 1\n",
        "  i = i + 1"
      ],
      "metadata": {
        "id": "9L4xl_m55_9I"
      },
      "execution_count": null,
      "outputs": []
    },
    {
      "cell_type": "markdown",
      "source": [
        "# 條件式 (if statements)\n",
        "\n",
        "語法一:\n",
        "\n",
        "使用條件式來決定程式區塊是否被執行。\n",
        "\n",
        "```python\n",
        "if 條件式:\n",
        "  程式區塊\n",
        "```"
      ],
      "metadata": {
        "id": "TY7NMJVuuTNp"
      }
    },
    {
      "cell_type": "code",
      "source": [
        "a = 3\n",
        "b = 4\n",
        "\n",
        "if a > b:\n",
        "  print(\"a > b\")"
      ],
      "metadata": {
        "id": "PXfq2vBku25f"
      },
      "execution_count": null,
      "outputs": []
    },
    {
      "cell_type": "markdown",
      "source": [
        "語法二:\n",
        "\n",
        "使用條件式來決定執行程式區塊1還是程式區塊2。\n",
        "\n",
        "```python\n",
        "if 條件式:\n",
        "  程式區塊1\n",
        "else:\n",
        "  程式區塊2\n",
        "```\n"
      ],
      "metadata": {
        "id": "RhMyxAd8wqbF"
      }
    },
    {
      "cell_type": "code",
      "source": [
        "a = 3\n",
        "b = 2\n",
        "\n",
        "if a > b:\n",
        "  print(\"a > b\")\n",
        "else:\n",
        "  print(\"a <= b\")"
      ],
      "metadata": {
        "colab": {
          "base_uri": "https://localhost:8080/"
        },
        "id": "7GMmMHHDv-vr",
        "outputId": "c598f0e1-7123-4a16-bfff-2c2c769c1e13"
      },
      "execution_count": null,
      "outputs": [
        {
          "output_type": "stream",
          "name": "stdout",
          "text": [
            "a > b\n"
          ]
        }
      ]
    },
    {
      "cell_type": "markdown",
      "source": [
        "語法三:\n",
        "\n",
        "使用條件式1跟條件式2來決定執行程式區塊1, 程式區塊2, 還是程式區塊3。\n",
        "\n",
        "```python\n",
        "if 條件式1:\n",
        "  程式區塊1\n",
        "elif 條件式2:\n",
        "  程式區塊2\n",
        "else:\n",
        "  程式區塊3\n",
        "```"
      ],
      "metadata": {
        "id": "DfKJd8vewvVI"
      }
    },
    {
      "cell_type": "code",
      "source": [
        "a = 2\n",
        "b = 2\n",
        "\n",
        "if a > b:\n",
        "  print(\"a > b\")\n",
        "elif a < b:\n",
        "  print(\"a < b\")\n",
        "else:\n",
        "  print(\"a = b\")"
      ],
      "metadata": {
        "colab": {
          "base_uri": "https://localhost:8080/"
        },
        "id": "wTJwf0oZwRjN",
        "outputId": "82dd1e22-d979-47f8-dda2-498e991a9b7f"
      },
      "execution_count": null,
      "outputs": [
        {
          "output_type": "stream",
          "name": "stdout",
          "text": [
            "a = b\n"
          ]
        }
      ]
    },
    {
      "cell_type": "code",
      "source": [
        "a = 3\n",
        "b = 2"
      ],
      "metadata": {
        "id": "MGyTQrZTxtvD"
      },
      "execution_count": null,
      "outputs": []
    },
    {
      "cell_type": "code",
      "source": [
        "a == b"
      ],
      "metadata": {
        "colab": {
          "base_uri": "https://localhost:8080/"
        },
        "id": "OpD-TLB9xuaH",
        "outputId": "b19cfce5-5782-4c06-a0d5-b29be7a5777d"
      },
      "execution_count": null,
      "outputs": [
        {
          "output_type": "execute_result",
          "data": {
            "text/plain": [
              "False"
            ]
          },
          "metadata": {},
          "execution_count": 26
        }
      ]
    },
    {
      "cell_type": "markdown",
      "source": [
        "## 練習\n",
        "\n",
        "請計算 bmi 並判斷體位。\n",
        "\n",
        "$$ bmi = \\frac{體重(公斤)}{身高(公尺)^2} $$\n",
        "\n",
        "|條件|體衛|\n",
        "|:-:|:-:|\n",
        "|bmi < 18 | 體重過輕 |\n",
        "|18 <= bmi < 24 | 健康體位 |\n",
        "|bmi > 24 | 體重過重| "
      ],
      "metadata": {
        "id": "_yGCqclxyGXv"
      }
    },
    {
      "cell_type": "code",
      "source": [
        "weight = 80\n",
        "height = 1.83\n",
        "\n",
        "bmi = weight/(height**2)"
      ],
      "metadata": {
        "id": "lu24JETxxwCf"
      },
      "execution_count": null,
      "outputs": []
    },
    {
      "cell_type": "code",
      "source": [
        "bmi"
      ],
      "metadata": {
        "colab": {
          "base_uri": "https://localhost:8080/"
        },
        "id": "HjvMcUBPzPcm",
        "outputId": "ffdc469c-63bf-43c0-d224-e5e9c065c76a"
      },
      "execution_count": null,
      "outputs": [
        {
          "output_type": "execute_result",
          "data": {
            "text/plain": [
              "23.888440980620498"
            ]
          },
          "metadata": {},
          "execution_count": 30
        }
      ]
    },
    {
      "cell_type": "code",
      "source": [
        "if bmi < 18:\n",
        "  print(\"體重過輕\")\n",
        "elif bmi > 24:\n",
        "  print(\"體重過重\")\n",
        "else:\n",
        "  print(\"健康體位\")"
      ],
      "metadata": {
        "id": "g-ipftKTzQMT",
        "colab": {
          "base_uri": "https://localhost:8080/"
        },
        "outputId": "0f3e3a96-1b41-4722-c7f7-fb2217ab43c0"
      },
      "execution_count": null,
      "outputs": [
        {
          "output_type": "stream",
          "name": "stdout",
          "text": [
            "健康體位\n"
          ]
        }
      ]
    },
    {
      "cell_type": "code",
      "source": [
        "def health1(w, h):\n",
        "  bmi = w/(h**2)\n",
        "  if bmi < 18:\n",
        "    print(\"體重過輕\")\n",
        "  elif bmi > 24:\n",
        "    print(\"體重過重\")\n",
        "  else:\n",
        "    print(\"健康體位\")"
      ],
      "metadata": {
        "id": "lgdURble2p0Q"
      },
      "execution_count": null,
      "outputs": []
    },
    {
      "cell_type": "code",
      "source": [
        "health1(80, 1.83)"
      ],
      "metadata": {
        "colab": {
          "base_uri": "https://localhost:8080/"
        },
        "id": "DKdbaJek28Xy",
        "outputId": "ff424883-d4bc-40bf-833a-2c364e5c2285"
      },
      "execution_count": null,
      "outputs": [
        {
          "output_type": "stream",
          "name": "stdout",
          "text": [
            "健康體位\n"
          ]
        }
      ]
    },
    {
      "cell_type": "code",
      "source": [
        "def health2(w, h):\n",
        "  bmi = w/(h**2)\n",
        "  if bmi < 18:\n",
        "    return \"體重過輕\"\n",
        "  elif bmi > 24:\n",
        "    return \"體重過重\"\n",
        "  else:\n",
        "    return \"健康體位\""
      ],
      "metadata": {
        "id": "qPjK8yad4ETQ"
      },
      "execution_count": null,
      "outputs": []
    },
    {
      "cell_type": "code",
      "source": [
        "health2(80, 1.83)"
      ],
      "metadata": {
        "colab": {
          "base_uri": "https://localhost:8080/",
          "height": 36
        },
        "id": "aYzGrIA94Rl5",
        "outputId": "9b72e105-4e97-4aff-9137-08306423a11a"
      },
      "execution_count": null,
      "outputs": [
        {
          "output_type": "execute_result",
          "data": {
            "text/plain": [
              "'健康體位'"
            ],
            "application/vnd.google.colaboratory.intrinsic+json": {
              "type": "string"
            }
          },
          "metadata": {},
          "execution_count": 42
        }
      ]
    },
    {
      "cell_type": "code",
      "source": [
        "x = health1(80, 1.83)\n",
        "y = health2(80, 1.83)"
      ],
      "metadata": {
        "colab": {
          "base_uri": "https://localhost:8080/"
        },
        "id": "vg-Btnhn4Sxb",
        "outputId": "ca75e3c1-b0c0-4021-8d40-c78e238038da"
      },
      "execution_count": null,
      "outputs": [
        {
          "output_type": "stream",
          "name": "stdout",
          "text": [
            "健康體位\n"
          ]
        }
      ]
    },
    {
      "cell_type": "code",
      "source": [
        "print(x)"
      ],
      "metadata": {
        "colab": {
          "base_uri": "https://localhost:8080/"
        },
        "id": "FCYoeoV94pDO",
        "outputId": "aba468ae-6a46-4915-82bc-1bd33556641f"
      },
      "execution_count": null,
      "outputs": [
        {
          "output_type": "stream",
          "name": "stdout",
          "text": [
            "None\n"
          ]
        }
      ]
    },
    {
      "cell_type": "code",
      "source": [
        "print(y)"
      ],
      "metadata": {
        "colab": {
          "base_uri": "https://localhost:8080/"
        },
        "id": "vqY4NiC84sSd",
        "outputId": "6a3c6cdf-5249-40d4-8399-ca2ce37e9d5a"
      },
      "execution_count": null,
      "outputs": [
        {
          "output_type": "stream",
          "name": "stdout",
          "text": [
            "健康體位\n"
          ]
        }
      ]
    },
    {
      "cell_type": "code",
      "source": [
        "# 用 input 取得的資料型態為: str\n",
        "# 如果要做數值運算，需要轉型\n",
        "x = input(\"請輸入資料：\")"
      ],
      "metadata": {
        "colab": {
          "base_uri": "https://localhost:8080/"
        },
        "id": "cqNkZq6k4uC9",
        "outputId": "95a21b2b-5343-4d37-d9b5-edff8c3079cc"
      },
      "execution_count": null,
      "outputs": [
        {
          "name": "stdout",
          "output_type": "stream",
          "text": [
            "請輸入資料：123\n"
          ]
        }
      ]
    },
    {
      "cell_type": "code",
      "source": [
        "x"
      ],
      "metadata": {
        "colab": {
          "base_uri": "https://localhost:8080/",
          "height": 36
        },
        "id": "9ApD-uBX7Kzx",
        "outputId": "0958b255-e2b7-460b-b8d8-4c78ee51542d"
      },
      "execution_count": null,
      "outputs": [
        {
          "output_type": "execute_result",
          "data": {
            "text/plain": [
              "'123'"
            ],
            "application/vnd.google.colaboratory.intrinsic+json": {
              "type": "string"
            }
          },
          "metadata": {},
          "execution_count": 53
        }
      ]
    },
    {
      "cell_type": "code",
      "source": [
        "# 底下的 float() 是將 str 轉換成 float\n",
        "w = input(\"請輸入體重(公斤)：\")\n",
        "h = input(\"請輸入身高(公尺)：\")\n",
        "health2(float(w), float(h))"
      ],
      "metadata": {
        "colab": {
          "base_uri": "https://localhost:8080/",
          "height": 71
        },
        "id": "wnR5oE6M7blB",
        "outputId": "0440b735-d8b7-462c-9e47-992708784379"
      },
      "execution_count": null,
      "outputs": [
        {
          "name": "stdout",
          "output_type": "stream",
          "text": [
            "請輸入體重(公斤)：80\n",
            "請輸入身高(公尺)：1.83\n"
          ]
        },
        {
          "output_type": "execute_result",
          "data": {
            "text/plain": [
              "'健康體位'"
            ],
            "application/vnd.google.colaboratory.intrinsic+json": {
              "type": "string"
            }
          },
          "metadata": {},
          "execution_count": 54
        }
      ]
    },
    {
      "cell_type": "markdown",
      "source": [
        "# Gradio 使用簡介"
      ],
      "metadata": {
        "id": "Oe2KW_lM_sFh"
      }
    },
    {
      "cell_type": "code",
      "source": [
        "!pip install gradio"
      ],
      "metadata": {
        "id": "9wwma8dR_uhI"
      },
      "execution_count": null,
      "outputs": []
    },
    {
      "cell_type": "code",
      "source": [
        "def greet(name):\n",
        "  return \"Hello \" + name + \"!\"\n",
        "\n",
        "greet(\"World\")"
      ],
      "metadata": {
        "colab": {
          "base_uri": "https://localhost:8080/",
          "height": 36
        },
        "id": "-ET0qLD5_1r5",
        "outputId": "604276c3-d4bc-4e51-ce2c-59a17ca13349"
      },
      "execution_count": null,
      "outputs": [
        {
          "output_type": "execute_result",
          "data": {
            "text/plain": [
              "'Hello World!'"
            ],
            "application/vnd.google.colaboratory.intrinsic+json": {
              "type": "string"
            }
          },
          "metadata": {},
          "execution_count": 56
        }
      ]
    },
    {
      "cell_type": "code",
      "source": [
        "import gradio"
      ],
      "metadata": {
        "id": "-J31Vy97AW2j"
      },
      "execution_count": null,
      "outputs": []
    },
    {
      "cell_type": "code",
      "source": [
        "gradio.Interface(greet, \"text\", \"text\", title=\"打招呼\").launch(share=True)"
      ],
      "metadata": {
        "colab": {
          "base_uri": "https://localhost:8080/",
          "height": 666
        },
        "id": "1-4MgmZSAR1P",
        "outputId": "0ea8f5fc-594d-4a51-ae65-d3e6b5182a73"
      },
      "execution_count": null,
      "outputs": [
        {
          "output_type": "stream",
          "name": "stdout",
          "text": [
            "Colab notebook detected. To show errors in colab notebook, set `debug=True` in `launch()`\n",
            "Running on public URL: https://54690.gradio.app\n",
            "\n",
            "This share link expires in 72 hours. For free permanent hosting, check out Spaces (https://huggingface.co/spaces)\n"
          ]
        },
        {
          "output_type": "display_data",
          "data": {
            "text/plain": [
              "<IPython.core.display.HTML object>"
            ],
            "text/html": [
              "<div><iframe src=\"https://54690.gradio.app\" width=\"900\" height=\"500\" allow=\"autoplay; camera; microphone;\" frameborder=\"0\" allowfullscreen></iframe></div>"
            ]
          },
          "metadata": {}
        },
        {
          "output_type": "execute_result",
          "data": {
            "text/plain": [
              "(<gradio.routes.App at 0x7f695ab84d50>,\n",
              " 'http://127.0.0.1:7861/',\n",
              " 'https://54690.gradio.app')"
            ]
          },
          "metadata": {},
          "execution_count": 59
        }
      ]
    },
    {
      "cell_type": "code",
      "source": [
        "def health2(w, h):\n",
        "  bmi = float(w)/(float(h)**2)\n",
        "  if bmi < 18:\n",
        "    return \"體重過輕\"\n",
        "  elif bmi > 24:\n",
        "    return \"體重過重\"\n",
        "  else:\n",
        "    return \"健康體位\""
      ],
      "metadata": {
        "id": "Is70wJPhCryZ"
      },
      "execution_count": null,
      "outputs": []
    },
    {
      "cell_type": "code",
      "source": [
        "gradio.Interface(health2, [\"text\",\"text\"], \"text\", title=\"判斷體位狀況\").launch(share=True)"
      ],
      "metadata": {
        "colab": {
          "base_uri": "https://localhost:8080/",
          "height": 666
        },
        "id": "E-RZorsUCQVe",
        "outputId": "574ee426-b44e-47dc-f3ba-7694ecb2cab7"
      },
      "execution_count": null,
      "outputs": [
        {
          "output_type": "stream",
          "name": "stdout",
          "text": [
            "Colab notebook detected. To show errors in colab notebook, set `debug=True` in `launch()`\n",
            "Running on public URL: https://53321.gradio.app\n",
            "\n",
            "This share link expires in 72 hours. For free permanent hosting, check out Spaces (https://huggingface.co/spaces)\n"
          ]
        },
        {
          "output_type": "display_data",
          "data": {
            "text/plain": [
              "<IPython.core.display.HTML object>"
            ],
            "text/html": [
              "<div><iframe src=\"https://53321.gradio.app\" width=\"900\" height=\"500\" allow=\"autoplay; camera; microphone;\" frameborder=\"0\" allowfullscreen></iframe></div>"
            ]
          },
          "metadata": {}
        },
        {
          "output_type": "execute_result",
          "data": {
            "text/plain": [
              "(<gradio.routes.App at 0x7f6956109290>,\n",
              " 'http://127.0.0.1:7863/',\n",
              " 'https://53321.gradio.app')"
            ]
          },
          "metadata": {},
          "execution_count": 62
        }
      ]
    }
  ]
}